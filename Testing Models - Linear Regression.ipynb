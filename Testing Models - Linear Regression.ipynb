{
 "cells": [
  {
   "cell_type": "markdown",
   "metadata": {},
   "source": [
    "# Testing Models: Linear Regression #\n",
    "\n",
    "In this series of Notebooks, I will be applying various Machine Learning models to the data set of car and bike accidents. This notebook makes a first pass testing linear regression models on numbers of accidents."
   ]
  },
  {
   "cell_type": "code",
   "execution_count": 8,
   "metadata": {},
   "outputs": [],
   "source": [
    "import pandas as pd\n",
    "import numpy as np\n",
    "\n",
    "from sklearn.linear_model import LinearRegression, Ridge, Lasso, ElasticNet\n",
    "from sklearn.model_selection import train_test_split\n",
    "from sklearn.preprocessing import StandardScaler\n",
    "from sklearn.pipeline import Pipeline"
   ]
  },
  {
   "cell_type": "code",
   "execution_count": 9,
   "metadata": {},
   "outputs": [],
   "source": [
    "# read in data set with categorical variables turned into dummy variablees\n",
    "df = pd.read_csv('data/cleaned_data/md_dum.csv')"
   ]
  },
  {
   "cell_type": "code",
   "execution_count": 10,
   "metadata": {},
   "outputs": [],
   "source": [
    "# create X and y values for modeling\n",
    "car_y = df.car_acc_score\n",
    "car_X = df.drop(columns=['Unnamed: 0', 'car_acc_score', 'car_dens_score', 'bike_dens_score'])\n",
    "bike_y = df.bike_acc_score\n",
    "bike_X = df.drop(columns=['Unnamed: 0', 'bike_acc_score', 'car_dens_score', 'bike_dens_score'])"
   ]
  },
  {
   "cell_type": "code",
   "execution_count": 11,
   "metadata": {},
   "outputs": [],
   "source": [
    "# do train test split\n",
    "X_car_train, X_car_test, y_car_train, y_car_test = train_test_split(car_X, car_y, test_size=0.3, random_state=18,\n",
    "                                                                   shuffle=True, stratify=car_y)\n",
    "X_bike_train, X_bike_test, y_bike_train, y_bike_test = train_test_split(bike_X, bike_y, test_size=0.3, random_state=18,\n",
    "                                                                   shuffle=True, stratify=car_y)"
   ]
  },
  {
   "cell_type": "markdown",
   "metadata": {},
   "source": [
    " ### Linear Regression ###"
   ]
  },
  {
   "cell_type": "code",
   "execution_count": 13,
   "metadata": {},
   "outputs": [
    {
     "name": "stdout",
     "output_type": "stream",
     "text": [
      "Linear Regression Score on car accidents: 0.06329616419275474\n",
      "Linear Regression Score on bike accidents: 0.06329616419275474\n"
     ]
    }
   ],
   "source": [
    "lr_car = LinearRegression()\n",
    "lr_car.fit(X_car_train, y_car_train)\n",
    "lr_car_score = lr_car.score(X_car_test, y_car_test)\n",
    "print('Linear Regression Score on car accidents: {}'.format(lr_car_score))\n",
    "\n",
    "lr_bike = LinearRegression()\n",
    "lr_bike.fit(X_bike_train, y_bike_train)\n",
    "lr_bike_score = lr_bike.score(X_bike_test, y_bike_test)\n",
    "print('Linear Regression Score on bike accidents: {}'.format(lr_car_score))"
   ]
  },
  {
   "cell_type": "markdown",
   "metadata": {},
   "source": [
    "Not very good at all. Let's see if normalization helps."
   ]
  },
  {
   "cell_type": "code",
   "execution_count": 18,
   "metadata": {},
   "outputs": [
    {
     "name": "stdout",
     "output_type": "stream",
     "text": [
      "Linear Regression Score on car accidents with normalization: 0.06315216507881061\n",
      "Linear Regression Score on bike accidents with normalization: 0.0782305121586967\n"
     ]
    }
   ],
   "source": [
    "lr = LinearRegression(normalize=True)\n",
    "lr.fit(X_car_train, y_car_train)\n",
    "lr_score = lr.score(X_car_test, y_car_test)\n",
    "print('Linear Regression Score on car accidents with normalization: {}'.format(lr_score))\n",
    "\n",
    "lr.fit(X_bike_train, y_bike_train)\n",
    "lr_score = lr.score(X_bike_test, y_bike_test)\n",
    "print('Linear Regression Score on bike accidents with normalization: {}'.format(lr_score))"
   ]
  },
  {
   "cell_type": "markdown",
   "metadata": {},
   "source": [
    "No, that didn't help either. Let's try some other regression methods.\n",
    "\n",
    "### Ridge Regression ###"
   ]
  },
  {
   "cell_type": "code",
   "execution_count": 19,
   "metadata": {},
   "outputs": [
    {
     "name": "stdout",
     "output_type": "stream",
     "text": [
      "Ridge Regression Score on car accidents is: 0.06339349364702906\n",
      "Ridge Regression Score on bike accidents is: 0.07840052791046803\n"
     ]
    }
   ],
   "source": [
    "ri = Ridge()\n",
    "ri.fit(X_car_train, y_car_train)\n",
    "ri_score = ri.score(X_car_test, y_car_test)\n",
    "print('Ridge Regression Score on car accidents is: {}'.format(ri_score))\n",
    "\n",
    "ri.fit(X_bike_train, y_bike_train)\n",
    "ri_score = ri.score(X_bike_test, y_bike_test)\n",
    "print('Ridge Regression Score on bike accidents is: {}'.format(ri_score))"
   ]
  },
  {
   "cell_type": "markdown",
   "metadata": {},
   "source": [
    "Ridge regression does not provide better regression.\n",
    "\n",
    "### Lasso ###"
   ]
  },
  {
   "cell_type": "code",
   "execution_count": 20,
   "metadata": {},
   "outputs": [
    {
     "name": "stdout",
     "output_type": "stream",
     "text": [
      "Lasso Regression Score on car accidents is: 0.027179812707160966\n",
      "Lasso Regression Score on bike accidents is: 0.0025571419372041326\n"
     ]
    }
   ],
   "source": [
    "la = Lasso()\n",
    "la.fit(X_car_train, y_car_train)\n",
    "la_score = la.score(X_car_test, y_car_test)\n",
    "print('Lasso Regression Score on car accidents is: {}'.format(la_score))\n",
    "\n",
    "la.fit(X_bike_train, y_bike_train)\n",
    "la_score = la.score(X_bike_test, y_bike_test)\n",
    "print('Lasso Regression Score on bike accidents is: {}'.format(la_score))"
   ]
  },
  {
   "cell_type": "markdown",
   "metadata": {},
   "source": [
    "That is actually worse. Finally, let's try ElasticNet, though since it just combines the previous methods, I don't think it will be.\n",
    "\n",
    "### ElasticNet ###"
   ]
  },
  {
   "cell_type": "code",
   "execution_count": 21,
   "metadata": {},
   "outputs": [
    {
     "name": "stdout",
     "output_type": "stream",
     "text": [
      "ElasticNet Regression Score on car accidents is: 0.027937964552807393\n",
      "ElasticNet Regression Score on bike accidents is: 0.018861221289405372\n"
     ]
    }
   ],
   "source": [
    "el = ElasticNet()\n",
    "el.fit(X_car_train, y_car_train)\n",
    "el_score = el.score(X_car_test, y_car_test)\n",
    "print('ElasticNet Regression Score on car accidents is: {}'.format(el_score))\n",
    "\n",
    "el.fit(X_bike_train, y_bike_train)\n",
    "el_score = el.score(X_bike_test, y_bike_test)\n",
    "print('ElasticNet Regression Score on bike accidents is: {}'.format(el_score))"
   ]
  },
  {
   "cell_type": "markdown",
   "metadata": {},
   "source": [
    "Still no good. I wonder if scaling the data will help appreciably. I've already normalized the data for Linear Regression which is the same as the Standard Scaling and it didn't help much. I'll try it for the other methods here.\n",
    "\n",
    "### Scaling the Data ###"
   ]
  },
  {
   "cell_type": "code",
   "execution_count": 23,
   "metadata": {},
   "outputs": [
    {
     "name": "stdout",
     "output_type": "stream",
     "text": [
      "Ridge Regression Score on car accidents with scaling is 0.06330043865227453\n",
      "Ridge Regression Score on bike accidents with scaling is 0.07836707508206453\n",
      "Lasso Regression Score on car accidents with scaling is 0.021570047248237745\n",
      "Lasso Regression Score on bike accidents with scaling is -1.9331857254334395e-05\n",
      "ElasticNet Regression Score on car accidents with scaling is 0.03812427226124482\n",
      "ElasticNet Regression Score on bikev accidents with scaling is -1.9331857254334395e-05\n"
     ]
    }
   ],
   "source": [
    "scaler = StandardScaler()\n",
    "\n",
    "steps=[('scaler', scaler), ('linear_regression', lr)]\n",
    "\n",
    "def run_pipeline(steps, X_train, X_test, y_train, y_test):\n",
    "    pipeline = Pipeline(steps)\n",
    "    pipeline.fit(X_train, y_train)\n",
    "    return pipeline.score(X_test, y_test)\n",
    "\n",
    "steps=[('scaler', scaler), ('ridge_regression', ri)]\n",
    "score = run_pipeline(steps, X_car_train, X_car_test, y_car_train, y_car_test)\n",
    "print('Ridge Regression Score on car accidents with scaling is {}'.format(score))\n",
    "score = run_pipeline(steps, X_bike_train, X_bike_test, y_bike_train, y_bike_test)\n",
    "print('Ridge Regression Score on bike accidents with scaling is {}'.format(score))\n",
    "\n",
    "steps=[('scaler', scaler), ('lasso_regression',la)]\n",
    "score = run_pipeline(steps, X_car_train, X_car_test, y_car_train, y_car_test)\n",
    "print('Lasso Regression Score on car accidents with scaling is {}'.format(score))\n",
    "score = run_pipeline(steps, X_bike_train, X_bike_test, y_bike_train, y_bike_test)\n",
    "print('Lasso Regression Score on bike accidents with scaling is {}'.format(score))\n",
    "\n",
    "steps=[('scaler', scaler), ('elasticnet_regression', el)]\n",
    "score = run_pipeline(steps, X_car_train, X_car_test, y_car_train, y_car_test)\n",
    "print('ElasticNet Regression Score on car accidents with scaling is {}'.format(score))\n",
    "score = run_pipeline(steps, X_bike_train, X_bike_test, y_bike_train, y_bike_test)\n",
    "print('ElasticNet Regression Score on bike accidents with scaling is {}'.format(score))"
   ]
  },
  {
   "cell_type": "markdown",
   "metadata": {},
   "source": [
    "None of these regression models have yeilded good results. Next I will change this to a classification problem and try to apply Logistic Regression. [Go>>](Testing%20Models%20-%20Logistic%20Regression.ipynb)"
   ]
  }
 ],
 "metadata": {
  "kernelspec": {
   "display_name": "Python 3",
   "language": "python",
   "name": "python3"
  },
  "language_info": {
   "codemirror_mode": {
    "name": "ipython",
    "version": 3
   },
   "file_extension": ".py",
   "mimetype": "text/x-python",
   "name": "python",
   "nbconvert_exporter": "python",
   "pygments_lexer": "ipython3",
   "version": "3.7.6"
  }
 },
 "nbformat": 4,
 "nbformat_minor": 4
}
