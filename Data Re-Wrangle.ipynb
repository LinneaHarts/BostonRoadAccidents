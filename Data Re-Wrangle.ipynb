{
 "cells": [
  {
   "cell_type": "markdown",
   "metadata": {},
   "source": [
    "# Using Bike Collision and Other Data to Predict Car Accidents #\n",
    "## Data Re-Wrangling ##\n",
    "\n",
    "After looking at various machine learning techniques, it becomes clear that I need to interpolate missing values for continuous variables, and fix a few other variables."
   ]
  },
  {
   "cell_type": "code",
   "execution_count": 1,
   "metadata": {},
   "outputs": [],
   "source": [
    "import pandas as pd\n",
    "import numpy as np\n",
    "from matplotlib import pyplot as plt"
   ]
  },
  {
   "cell_type": "code",
   "execution_count": 2,
   "metadata": {},
   "outputs": [],
   "source": [
    "# Import data from the stage before I separated out traffic from other data, and before I\n",
    "# added all of the -1s for missing values\n",
    "\n",
    "# read in the cluster data\n",
    "rd_df = pd.read_csv('data/cleaned_data/agg_clusters.csv', dtype={'shape': 'str',\n",
    "'bike_acc_ids': 'str',\n",
    "'car_acc_ids': 'str',\n",
    "'Jurisdictn': 'str',\n",
    "'StationID': 'str',\n",
    "'geometry': 'str',\n",
    "'road_line': 'str'})"
   ]
  },
  {
   "cell_type": "code",
   "execution_count": 3,
   "metadata": {},
   "outputs": [
    {
     "name": "stdout",
     "output_type": "stream",
     "text": [
      "<class 'pandas.core.frame.DataFrame'>\n",
      "RangeIndex: 74122 entries, 0 to 74121\n",
      "Data columns (total 47 columns):\n",
      " #   Column           Non-Null Count  Dtype  \n",
      "---  ------           --------------  -----  \n",
      " 0   car_acc_score    74122 non-null  float64\n",
      " 1   bike_acc_score   74122 non-null  float64\n",
      " 2   car_dens_score   74122 non-null  float64\n",
      " 3   bike_dens_score  74122 non-null  float64\n",
      " 4   Route_System     74122 non-null  object \n",
      " 5   Route_Direction  68855 non-null  object \n",
      " 6   Facility         65737 non-null  float64\n",
      " 7   F_Class          72378 non-null  float64\n",
      " 8   F_F_Class        72378 non-null  float64\n",
      " 9   Jurisdictn       71241 non-null  object \n",
      " 10  NHS              72303 non-null  float64\n",
      " 11  Control          72020 non-null  float64\n",
      " 12  Num_Lanes        72301 non-null  float64\n",
      " 13  Opp_Lanes        72301 non-null  float64\n",
      " 14  Surface_Tp       72071 non-null  float64\n",
      " 15  Surface_Wd       72071 non-null  float64\n",
      " 16  Shldr_Rt_W       72078 non-null  float64\n",
      " 17  Shldr_Rt_T       72078 non-null  float64\n",
      " 18  Shldr_Lt_W       72071 non-null  float64\n",
      " 19  Shldr_Lt_T       72071 non-null  float64\n",
      " 20  Shldr_UL_W       72070 non-null  float64\n",
      " 21  Shldr_UL_T       72070 non-null  float64\n",
      " 22  Med_Width        71964 non-null  float64\n",
      " 23  Med_Type         71616 non-null  float64\n",
      " 24  Curb             62025 non-null  float64\n",
      " 25  Lt_Sidewlk       72082 non-null  float64\n",
      " 26  Rt_Sidewlk       72082 non-null  float64\n",
      " 27  Operation        64565 non-null  float64\n",
      " 28  Speed_Lim        36385 non-null  float64\n",
      " 29  Op_Dir_SL        36069 non-null  float64\n",
      " 30  T_Exc_Type       71087 non-null  float64\n",
      " 31  T_Exc_Time       71087 non-null  float64\n",
      " 32  Truck_Rte        71087 non-null  float64\n",
      " 33  ROW_Width        61036 non-null  float64\n",
      " 34  Struct_Cnd       62239 non-null  float64\n",
      " 35  Terrain          72043 non-null  float64\n",
      " 36  Toll_Road        1907 non-null   float64\n",
      " 37  MHS              1980 non-null   float64\n",
      " 38  City             73397 non-null  float64\n",
      " 39  Mun_Type         73292 non-null  float64\n",
      " 40  County           73397 non-null  float64\n",
      " 41  Hwy_Dist         73397 non-null  float64\n",
      " 42  City_Maint       72114 non-null  float64\n",
      " 43  AADT             61950 non-null  float64\n",
      " 44  AADT_Year        33595 non-null  float64\n",
      " 45  AADT_Deriv       33579 non-null  float64\n",
      " 46  traffic_density  74122 non-null  float64\n",
      "dtypes: float64(44), object(3)\n",
      "memory usage: 26.6+ MB\n"
     ]
    }
   ],
   "source": [
    "# Drop columns not needed for machine learning and columns with too few non-null values to be useful\n",
    "model_df = rd_df.drop(columns=['Unnamed: 0.1.1', 'Unnamed: 0', 'Unnamed: 0.1',  'Unnamed: 0_2', 'Unnamed: 0_1', \n",
    "                               'shape', 'bike_acc_ids', 'Pd_Sf_Type', 'Rd_Seg_ID', 'Statn_Num', 'StationID',\n",
    "                              'car_acc_ids', 'Route_ID', 'From_Measure', 'To_Measure', 'Route_Number', 'Fd_Aid_Rd',\n",
    "                               'St_Name', 'Fm_St_Name', 'To_St_Name', 'Length', 'Shape_Length', 'road_shape', 'geometry',\n",
    "                               'road_line', 'Urban_Area', 'Pd_Sf_Type', 'Pd_Fc_Type', 'Cr_Slope', 'Path_Width',\n",
    "                               'Urban_Type', 'Truck', 'Trk_Permit', 'Trk_Netwrk', 'Mile_Count', 'MPO', 'RPA', 'RTA', 'Speed'\n",
    "                              ])\n",
    "model_df.info(verbose=True, null_counts=True)"
   ]
  },
  {
   "cell_type": "code",
   "execution_count": 4,
   "metadata": {},
   "outputs": [],
   "source": [
    "# convert car and bike accident scores to integers\n",
    "model_df['car_acc_score'] = model_df['car_acc_score'].astype(int)\n",
    "model_df['bike_acc_score'] = model_df['bike_acc_score'].astype(int)"
   ]
  },
  {
   "cell_type": "code",
   "execution_count": 5,
   "metadata": {},
   "outputs": [],
   "source": [
    "# fill in null values in string codes with 'NA'\n",
    "\n",
    "list_to_convert = ['Jurisdictn', 'Route_Direction']\n",
    "\n",
    "for col in list_to_convert:\n",
    "    model_df[col] = model_df[col].fillna(value='NA')"
   ]
  },
  {
   "cell_type": "code",
   "execution_count": 6,
   "metadata": {},
   "outputs": [],
   "source": [
    "# a large number of these columns are IDs that stand for qualitative values\n",
    "# this function fills null values with -1 and converts the column to integers\n",
    "\n",
    "# -1 also makes sense as a fill value for fields like number of lanes\n",
    "\n",
    "def fill_and_convert(data, column, make_int=False):\n",
    "    data[column] = data[column].fillna(value=-1)\n",
    "    if (make_int):\n",
    "        data[column] = data[column].astype(int)\n",
    "    return True"
   ]
  },
  {
   "cell_type": "code",
   "execution_count": 7,
   "metadata": {},
   "outputs": [
    {
     "name": "stdout",
     "output_type": "stream",
     "text": [
      "<class 'pandas.core.frame.DataFrame'>\n",
      "RangeIndex: 74122 entries, 0 to 74121\n",
      "Data columns (total 47 columns):\n",
      " #   Column           Non-Null Count  Dtype  \n",
      "---  ------           --------------  -----  \n",
      " 0   car_acc_score    74122 non-null  int32  \n",
      " 1   bike_acc_score   74122 non-null  int32  \n",
      " 2   car_dens_score   74122 non-null  float64\n",
      " 3   bike_dens_score  74122 non-null  float64\n",
      " 4   Route_System     74122 non-null  object \n",
      " 5   Route_Direction  74122 non-null  object \n",
      " 6   Facility         74122 non-null  int32  \n",
      " 7   F_Class          74122 non-null  int32  \n",
      " 8   F_F_Class        74122 non-null  int32  \n",
      " 9   Jurisdictn       74122 non-null  object \n",
      " 10  NHS              74122 non-null  int32  \n",
      " 11  Control          74122 non-null  int32  \n",
      " 12  Num_Lanes        74122 non-null  int32  \n",
      " 13  Opp_Lanes        74122 non-null  int32  \n",
      " 14  Surface_Tp       74122 non-null  int32  \n",
      " 15  Surface_Wd       74122 non-null  float64\n",
      " 16  Shldr_Rt_W       74122 non-null  float64\n",
      " 17  Shldr_Rt_T       74122 non-null  int32  \n",
      " 18  Shldr_Lt_W       74122 non-null  float64\n",
      " 19  Shldr_Lt_T       74122 non-null  int32  \n",
      " 20  Shldr_UL_W       74122 non-null  float64\n",
      " 21  Shldr_UL_T       74122 non-null  int32  \n",
      " 22  Med_Width        74122 non-null  float64\n",
      " 23  Med_Type         74122 non-null  int32  \n",
      " 24  Curb             74122 non-null  int32  \n",
      " 25  Lt_Sidewlk       74122 non-null  float64\n",
      " 26  Rt_Sidewlk       74122 non-null  float64\n",
      " 27  Operation        74122 non-null  int32  \n",
      " 28  Speed_Lim        74122 non-null  int32  \n",
      " 29  Op_Dir_SL        74122 non-null  int32  \n",
      " 30  T_Exc_Type       74122 non-null  int32  \n",
      " 31  T_Exc_Time       74122 non-null  int32  \n",
      " 32  Truck_Rte        74122 non-null  int32  \n",
      " 33  ROW_Width        74122 non-null  float64\n",
      " 34  Struct_Cnd       74122 non-null  int32  \n",
      " 35  Terrain          74122 non-null  int32  \n",
      " 36  Toll_Road        74122 non-null  int32  \n",
      " 37  MHS              74122 non-null  int32  \n",
      " 38  City             74122 non-null  int32  \n",
      " 39  Mun_Type         74122 non-null  int32  \n",
      " 40  County           74122 non-null  int32  \n",
      " 41  Hwy_Dist         74122 non-null  int32  \n",
      " 42  City_Maint       74122 non-null  int32  \n",
      " 43  AADT             74122 non-null  float64\n",
      " 44  AADT_Year        74122 non-null  int32  \n",
      " 45  AADT_Deriv       74122 non-null  int32  \n",
      " 46  traffic_density  74122 non-null  float64\n",
      "dtypes: float64(12), int32(32), object(3)\n",
      "memory usage: 17.5+ MB\n"
     ]
    }
   ],
   "source": [
    "list_to_convert_int = ['Facility', 'F_Class', 'F_F_Class', 'NHS', 'Control', 'Num_Lanes',\n",
    "                       'Opp_Lanes', 'Surface_Tp', 'Shldr_Rt_T', 'Shldr_Lt_T', 'Shldr_UL_T', 'Med_Type', \n",
    "                       'Curb', 'Operation', 'Speed_Lim', 'Op_Dir_SL', 'T_Exc_Type', 'T_Exc_Time', 'Truck_Rte', \n",
    "                       'Struct_Cnd', 'Terrain', 'City', 'Mun_Type', 'County', 'Hwy_Dist', 'City_Maint', \n",
    "                      'Toll_Road', 'MHS', 'AADT_Year', 'AADT_Deriv']\n",
    "\n",
    "for col in list_to_convert_int:\n",
    "    fill_and_convert(model_df, col, make_int=True)\n",
    "    \n",
    "list_to_convert_float = ['Surface_Wd', 'Shldr_Rt_W', 'Shldr_Lt_W', 'Shldr_UL_W', 'Med_Width', 'Lt_Sidewlk', 'Rt_Sidewlk', \n",
    "                         'ROW_Width', 'AADT', 'traffic_density']\n",
    "\n",
    "for col in list_to_convert_float:\n",
    "    fill_and_convert(model_df, col, make_int=False)\n",
    "\n",
    "model_df.info(verbose=True, null_counts=True)"
   ]
  },
  {
   "cell_type": "code",
   "execution_count": 8,
   "metadata": {},
   "outputs": [
    {
     "name": "stdout",
     "output_type": "stream",
     "text": [
      "Surface_Wd\n",
      "       0        1     2    3      4     5      6     7      8      9   ...  \\\n",
      "0    -1.0      0.0   6.0  7.0    8.0   9.0   10.0  11.0   12.0   13.0  ...   \n",
      "1  2051.0  10319.0  17.0  6.0  572.0  64.0  477.0  54.0  810.0  176.0  ...   \n",
      "\n",
      "     58    59    60    61    62    63    64    65    66    67  \n",
      "0  63.0  64.0  65.0  66.0  68.0  70.0  71.0  75.0  76.0  80.0  \n",
      "1   7.0  38.0  58.0   8.0  16.0  68.0   3.0  13.0   4.0  52.0  \n",
      "\n",
      "[2 rows x 68 columns]\n",
      "\n",
      "Shldr_Rt_W\n",
      "        0        1       2       3      4      5     6      7     8      9  \\\n",
      "0    -1.0      0.0     1.0     2.0    3.0    4.0   5.0    6.0   7.0    8.0   \n",
      "1  2044.0  63473.0  1045.0  4939.0  377.0  916.0  90.0  278.0  48.0  587.0   \n",
      "\n",
      "     10     11    12    13    14    15    16    17  \n",
      "0   9.0   10.0  11.0  12.0  13.0  14.0  20.0  25.0  \n",
      "1  31.0  177.0  14.0  79.0   3.0  14.0   1.0   6.0  \n",
      "\n",
      "Shldr_Lt_W\n",
      "        0        1      2      3     4      5     6     7\n",
      "0    -1.0      0.0    1.0    2.0   3.0    4.0   6.0   8.0\n",
      "1  2051.0  70263.0  703.0  845.0  26.0  192.0  29.0  13.0\n",
      "\n",
      "Shldr_UL_W\n",
      "        0        1     2      3    4      5     6     7     8\n",
      "0    -1.0      0.0   1.0    2.0  3.0    4.0   6.0   8.0  10.0\n",
      "1  2052.0  71530.0  25.0  257.0  1.0  124.0  18.0  81.0  34.0\n",
      "\n",
      "Med_Width\n",
      "       0        1      2       3       4       5      6      7      8      9   \\\n",
      "0    -1.0      0.0    2.0     3.0     4.0     5.0    6.0    7.0    8.0    9.0   \n",
      "1  2158.0  61797.0  226.0  1541.0  1796.0  1400.0  396.0  384.0  476.0  140.0   \n",
      "\n",
      "   ...    40     41    42     43     44     45     46     47     48     49  \n",
      "0  ...  78.0   80.0  85.0   95.0  100.0  120.0  180.0  198.0  200.0  240.0  \n",
      "1  ...  68.0  165.0  15.0  100.0   72.0   12.0   58.0   30.0   26.0   43.0  \n",
      "\n",
      "[2 rows x 50 columns]\n",
      "\n",
      "Lt_Sidewlk\n",
      "       0        1     2      3      4       5       6       7       8   \\\n",
      "0    -1.0      0.0   1.0    2.0    3.0     4.0     5.0     6.0     7.0   \n",
      "1  2040.0  30022.0  18.0  204.0  810.0  5123.0  3858.0  6777.0  9271.0   \n",
      "\n",
      "       9   ...     15     16     17     18    19    20    21    22    23    24  \n",
      "0     8.0  ...   14.0   15.0   16.0   18.0  20.0  21.0  23.0  26.0  27.0  28.0  \n",
      "1  8079.0  ...  188.0  117.0  278.0  114.0  29.0   4.0   2.0  12.0  61.0   4.0  \n",
      "\n",
      "[2 rows x 25 columns]\n",
      "\n",
      "Rt_Sidewlk\n",
      "       0        1     2      3      4       5       6       7       8   \\\n",
      "0    -1.0      0.0   1.0    2.0    3.0     4.0     5.0     6.0     7.0   \n",
      "1  2040.0  19688.0  24.0  217.0  681.0  5348.0  4322.0  8708.0  9757.0   \n",
      "\n",
      "        9   ...     15     16     17     18    19    20     21    22    23  \\\n",
      "0      8.0  ...   14.0   15.0   16.0   18.0  20.0  21.0   22.0  24.0  26.0   \n",
      "1  10907.0  ...  655.0  197.0  368.0  178.0  32.0   4.0  337.0  20.0  12.0   \n",
      "\n",
      "     24  \n",
      "0  30.0  \n",
      "1   2.0  \n",
      "\n",
      "[2 rows x 25 columns]\n",
      "\n",
      "ROW_Width\n",
      "       0     1    2    3    4     5     6      7     8      9    ...    113  \\\n",
      "0     -1.0   0.0  4.0  8.0  9.0  10.0  11.0   12.0  13.0   14.0  ...  158.0   \n",
      "1  13086.0  45.0  2.0  9.0  5.0  89.0  13.0  225.0  26.0  148.0  ...   17.0   \n",
      "\n",
      "     114    115    116    117    118    119    120    121    122  \n",
      "0  160.0  162.0  168.0  170.0  190.0  194.0  200.0  250.0  300.0  \n",
      "1   39.0  119.0   23.0   79.0   98.0   89.0  683.0   63.0   69.0  \n",
      "\n",
      "[2 rows x 123 columns]\n",
      "\n",
      "AADT\n",
      "      0      1      2      3      4      5      6      7      8      9     \\\n",
      "0     -1.0   10.0  228.0  240.0  241.0  350.0  451.0  518.0  542.0  545.0   \n",
      "1  12172.0  315.0   12.0    7.0    2.0    9.0   18.0   17.0    2.0    3.0   \n",
      "\n",
      "   ...      2003      2004      2005      2006      2007      2008      2009  \\\n",
      "0  ...  196708.0  197004.0  198396.0  198415.0  205185.0  211943.0  224311.0   \n",
      "1  ...      33.0      10.0      10.0       4.0      11.0      14.0      10.0   \n",
      "\n",
      "       2010      2011      2012  \n",
      "0  224513.0  224598.0  224649.0  \n",
      "1      11.0       7.0      13.0  \n",
      "\n",
      "[2 rows x 2013 columns]\n",
      "\n",
      "traffic_density\n",
      "     0         1         2         3         4        5        6        7      \\\n",
      "0      0.0  0.000424  0.000493  0.000564  0.000595  0.00064  0.00065  0.00067   \n",
      "1  39855.0  1.000000  1.000000  1.000000  1.000000  1.00000  1.00000  1.00000   \n",
      "\n",
      "      8         9      ...         34253          34254         34255  \\\n",
      "0  0.000689  0.000727  ...  763419.34856  836735.705009  985553.51634   \n",
      "1  1.000000  1.000000  ...       1.00000       1.000000       1.00000   \n",
      "\n",
      "          34256         34257         34258         34259         34260  \\\n",
      "0  1.002641e+06  1.797837e+06  2.831019e+06  6.611478e+06  1.003555e+07   \n",
      "1  1.000000e+00  1.000000e+00  1.000000e+00  1.000000e+00  1.000000e+00   \n",
      "\n",
      "          34261         34262  \n",
      "0  1.883903e+07  3.773565e+07  \n",
      "1  1.000000e+00  1.000000e+00  \n",
      "\n",
      "[2 rows x 34263 columns]\n",
      "\n"
     ]
    }
   ],
   "source": [
    "# Examining float columns to see if there are discrete values, and get information for interpolating\n",
    "\n",
    "for col in list_to_convert_float:\n",
    "    counts = pd.DataFrame(np.unique(model_df[col], return_counts=True))\n",
    "    print(col)\n",
    "    print(counts)\n",
    "    print()"
   ]
  },
  {
   "cell_type": "code",
   "execution_count": 9,
   "metadata": {},
   "outputs": [
    {
     "data": {
      "text/html": [
       "<div>\n",
       "<style scoped>\n",
       "    .dataframe tbody tr th:only-of-type {\n",
       "        vertical-align: middle;\n",
       "    }\n",
       "\n",
       "    .dataframe tbody tr th {\n",
       "        vertical-align: top;\n",
       "    }\n",
       "\n",
       "    .dataframe thead th {\n",
       "        text-align: right;\n",
       "    }\n",
       "</style>\n",
       "<table border=\"1\" class=\"dataframe\">\n",
       "  <thead>\n",
       "    <tr style=\"text-align: right;\">\n",
       "      <th></th>\n",
       "      <th>Surface_Wd</th>\n",
       "      <th>Shldr_Rt_W</th>\n",
       "      <th>Shldr_Lt_W</th>\n",
       "      <th>Shldr_UL_W</th>\n",
       "      <th>Med_Width</th>\n",
       "      <th>Lt_Sidewlk</th>\n",
       "      <th>Rt_Sidewlk</th>\n",
       "      <th>ROW_Width</th>\n",
       "      <th>AADT</th>\n",
       "      <th>traffic_density</th>\n",
       "    </tr>\n",
       "  </thead>\n",
       "  <tbody>\n",
       "    <tr>\n",
       "      <th>count</th>\n",
       "      <td>74122.000000</td>\n",
       "      <td>74122.000000</td>\n",
       "      <td>74122.000000</td>\n",
       "      <td>74122.000000</td>\n",
       "      <td>74122.000000</td>\n",
       "      <td>74122.000000</td>\n",
       "      <td>74122.000000</td>\n",
       "      <td>74122.000000</td>\n",
       "      <td>74122.000000</td>\n",
       "      <td>7.412200e+04</td>\n",
       "    </tr>\n",
       "    <tr>\n",
       "      <th>mean</th>\n",
       "      <td>24.103734</td>\n",
       "      <td>0.328917</td>\n",
       "      <td>0.019778</td>\n",
       "      <td>0.001106</td>\n",
       "      <td>2.348048</td>\n",
       "      <td>4.026483</td>\n",
       "      <td>5.302474</td>\n",
       "      <td>47.652303</td>\n",
       "      <td>11674.527239</td>\n",
       "      <td>1.267862e+03</td>\n",
       "    </tr>\n",
       "    <tr>\n",
       "      <th>std</th>\n",
       "      <td>13.869579</td>\n",
       "      <td>1.302439</td>\n",
       "      <td>0.390228</td>\n",
       "      <td>0.439695</td>\n",
       "      <td>12.894142</td>\n",
       "      <td>4.057091</td>\n",
       "      <td>4.209655</td>\n",
       "      <td>36.883101</td>\n",
       "      <td>24589.336231</td>\n",
       "      <td>1.618337e+05</td>\n",
       "    </tr>\n",
       "    <tr>\n",
       "      <th>min</th>\n",
       "      <td>-1.000000</td>\n",
       "      <td>-1.000000</td>\n",
       "      <td>-1.000000</td>\n",
       "      <td>-1.000000</td>\n",
       "      <td>-1.000000</td>\n",
       "      <td>-1.000000</td>\n",
       "      <td>-1.000000</td>\n",
       "      <td>-1.000000</td>\n",
       "      <td>-1.000000</td>\n",
       "      <td>0.000000e+00</td>\n",
       "    </tr>\n",
       "    <tr>\n",
       "      <th>25%</th>\n",
       "      <td>20.000000</td>\n",
       "      <td>0.000000</td>\n",
       "      <td>0.000000</td>\n",
       "      <td>0.000000</td>\n",
       "      <td>0.000000</td>\n",
       "      <td>0.000000</td>\n",
       "      <td>0.000000</td>\n",
       "      <td>30.000000</td>\n",
       "      <td>1154.000000</td>\n",
       "      <td>0.000000e+00</td>\n",
       "    </tr>\n",
       "    <tr>\n",
       "      <th>50%</th>\n",
       "      <td>26.000000</td>\n",
       "      <td>0.000000</td>\n",
       "      <td>0.000000</td>\n",
       "      <td>0.000000</td>\n",
       "      <td>0.000000</td>\n",
       "      <td>4.000000</td>\n",
       "      <td>6.000000</td>\n",
       "      <td>41.000000</td>\n",
       "      <td>1154.000000</td>\n",
       "      <td>0.000000e+00</td>\n",
       "    </tr>\n",
       "    <tr>\n",
       "      <th>75%</th>\n",
       "      <td>33.000000</td>\n",
       "      <td>0.000000</td>\n",
       "      <td>0.000000</td>\n",
       "      <td>0.000000</td>\n",
       "      <td>0.000000</td>\n",
       "      <td>7.000000</td>\n",
       "      <td>8.000000</td>\n",
       "      <td>60.000000</td>\n",
       "      <td>11282.000000</td>\n",
       "      <td>2.037869e+00</td>\n",
       "    </tr>\n",
       "    <tr>\n",
       "      <th>max</th>\n",
       "      <td>80.000000</td>\n",
       "      <td>25.000000</td>\n",
       "      <td>8.000000</td>\n",
       "      <td>10.000000</td>\n",
       "      <td>240.000000</td>\n",
       "      <td>28.000000</td>\n",
       "      <td>30.000000</td>\n",
       "      <td>300.000000</td>\n",
       "      <td>224649.000000</td>\n",
       "      <td>3.773565e+07</td>\n",
       "    </tr>\n",
       "  </tbody>\n",
       "</table>\n",
       "</div>"
      ],
      "text/plain": [
       "         Surface_Wd    Shldr_Rt_W    Shldr_Lt_W    Shldr_UL_W     Med_Width  \\\n",
       "count  74122.000000  74122.000000  74122.000000  74122.000000  74122.000000   \n",
       "mean      24.103734      0.328917      0.019778      0.001106      2.348048   \n",
       "std       13.869579      1.302439      0.390228      0.439695     12.894142   \n",
       "min       -1.000000     -1.000000     -1.000000     -1.000000     -1.000000   \n",
       "25%       20.000000      0.000000      0.000000      0.000000      0.000000   \n",
       "50%       26.000000      0.000000      0.000000      0.000000      0.000000   \n",
       "75%       33.000000      0.000000      0.000000      0.000000      0.000000   \n",
       "max       80.000000     25.000000      8.000000     10.000000    240.000000   \n",
       "\n",
       "         Lt_Sidewlk    Rt_Sidewlk     ROW_Width           AADT  \\\n",
       "count  74122.000000  74122.000000  74122.000000   74122.000000   \n",
       "mean       4.026483      5.302474     47.652303   11674.527239   \n",
       "std        4.057091      4.209655     36.883101   24589.336231   \n",
       "min       -1.000000     -1.000000     -1.000000      -1.000000   \n",
       "25%        0.000000      0.000000     30.000000    1154.000000   \n",
       "50%        4.000000      6.000000     41.000000    1154.000000   \n",
       "75%        7.000000      8.000000     60.000000   11282.000000   \n",
       "max       28.000000     30.000000    300.000000  224649.000000   \n",
       "\n",
       "       traffic_density  \n",
       "count     7.412200e+04  \n",
       "mean      1.267862e+03  \n",
       "std       1.618337e+05  \n",
       "min       0.000000e+00  \n",
       "25%       0.000000e+00  \n",
       "50%       0.000000e+00  \n",
       "75%       2.037869e+00  \n",
       "max       3.773565e+07  "
      ]
     },
     "execution_count": 9,
     "metadata": {},
     "output_type": "execute_result"
    }
   ],
   "source": [
    "model_df[list_to_convert_float].describe()"
   ]
  },
  {
   "cell_type": "code",
   "execution_count": 10,
   "metadata": {},
   "outputs": [
    {
     "data": {
      "text/html": [
       "<div>\n",
       "<style scoped>\n",
       "    .dataframe tbody tr th:only-of-type {\n",
       "        vertical-align: middle;\n",
       "    }\n",
       "\n",
       "    .dataframe tbody tr th {\n",
       "        vertical-align: top;\n",
       "    }\n",
       "\n",
       "    .dataframe thead th {\n",
       "        text-align: right;\n",
       "    }\n",
       "</style>\n",
       "<table border=\"1\" class=\"dataframe\">\n",
       "  <thead>\n",
       "    <tr style=\"text-align: right;\">\n",
       "      <th></th>\n",
       "      <th>Num_Lanes</th>\n",
       "      <th>Opp_Lanes</th>\n",
       "      <th>Med_Width</th>\n",
       "      <th>Med_Type</th>\n",
       "    </tr>\n",
       "  </thead>\n",
       "  <tbody>\n",
       "    <tr>\n",
       "      <th>count</th>\n",
       "      <td>74122.000000</td>\n",
       "      <td>74122.000000</td>\n",
       "      <td>74122.000000</td>\n",
       "      <td>74122.000000</td>\n",
       "    </tr>\n",
       "    <tr>\n",
       "      <th>mean</th>\n",
       "      <td>1.752718</td>\n",
       "      <td>0.352082</td>\n",
       "      <td>2.348048</td>\n",
       "      <td>0.272632</td>\n",
       "    </tr>\n",
       "    <tr>\n",
       "      <th>std</th>\n",
       "      <td>0.938645</td>\n",
       "      <td>0.917876</td>\n",
       "      <td>12.894142</td>\n",
       "      <td>1.084276</td>\n",
       "    </tr>\n",
       "    <tr>\n",
       "      <th>min</th>\n",
       "      <td>-1.000000</td>\n",
       "      <td>-1.000000</td>\n",
       "      <td>-1.000000</td>\n",
       "      <td>-1.000000</td>\n",
       "    </tr>\n",
       "    <tr>\n",
       "      <th>25%</th>\n",
       "      <td>2.000000</td>\n",
       "      <td>0.000000</td>\n",
       "      <td>0.000000</td>\n",
       "      <td>0.000000</td>\n",
       "    </tr>\n",
       "    <tr>\n",
       "      <th>50%</th>\n",
       "      <td>2.000000</td>\n",
       "      <td>0.000000</td>\n",
       "      <td>0.000000</td>\n",
       "      <td>0.000000</td>\n",
       "    </tr>\n",
       "    <tr>\n",
       "      <th>75%</th>\n",
       "      <td>2.000000</td>\n",
       "      <td>0.000000</td>\n",
       "      <td>0.000000</td>\n",
       "      <td>0.000000</td>\n",
       "    </tr>\n",
       "    <tr>\n",
       "      <th>max</th>\n",
       "      <td>5.000000</td>\n",
       "      <td>4.000000</td>\n",
       "      <td>240.000000</td>\n",
       "      <td>6.000000</td>\n",
       "    </tr>\n",
       "  </tbody>\n",
       "</table>\n",
       "</div>"
      ],
      "text/plain": [
       "          Num_Lanes     Opp_Lanes     Med_Width      Med_Type\n",
       "count  74122.000000  74122.000000  74122.000000  74122.000000\n",
       "mean       1.752718      0.352082      2.348048      0.272632\n",
       "std        0.938645      0.917876     12.894142      1.084276\n",
       "min       -1.000000     -1.000000     -1.000000     -1.000000\n",
       "25%        2.000000      0.000000      0.000000      0.000000\n",
       "50%        2.000000      0.000000      0.000000      0.000000\n",
       "75%        2.000000      0.000000      0.000000      0.000000\n",
       "max        5.000000      4.000000    240.000000      6.000000"
      ]
     },
     "execution_count": 10,
     "metadata": {},
     "output_type": "execute_result"
    }
   ],
   "source": [
    "model_df[['Num_Lanes', 'Opp_Lanes', 'Med_Width', 'Med_Type']].describe()"
   ]
  },
  {
   "cell_type": "code",
   "execution_count": 11,
   "metadata": {},
   "outputs": [],
   "source": [
    "# if there is no Median, then the Median width should be zero\n",
    "model_df['Med_Width'] = model_df['Med_Width'].mask((model_df['Med_Width'] < 0) & (model_df['Med_Type'] == 0), 0)"
   ]
  },
  {
   "cell_type": "code",
   "execution_count": 12,
   "metadata": {},
   "outputs": [],
   "source": [
    "# Number of Travel Lanes/Opposite (Num_Lanes, Opp_Lanes)\n",
    "# Number of travel lanes in any direction of travel on an undivided road. Divided roadways note number of lanes on \n",
    "# the given segment only, using the opposite number of lanes field to identify the number of lanes in opposing traffic.\n",
    "\n",
    "# if opp lanes is specified, and num lanes is not, then num lanes should be the same\n",
    "model_df['Num_Lanes'] = model_df['Num_Lanes'].mask((model_df['Num_Lanes'] <= 0) & (model_df['Opp_Lanes'] > 0), \n",
    "                                                   model_df['Opp_Lanes'])\n",
    "\n",
    "# if a road has a median, probably has at least 4 lanes\n",
    "model_df['Num_Lanes'] = model_df['Num_Lanes'].mask((model_df['Num_Lanes'] <= 0) & (model_df['Med_Width'] > 0), 4)\n",
    "\n",
    "# now update thhe rest to mean\n",
    "mean = round(np.mean(model_df[model_df['Num_Lanes'] > 0]['Num_Lanes']))\n",
    "model_df['Num_Lanes'] = model_df['Num_Lanes'].mask(model_df['Num_Lanes'] <= 0, mean)\n",
    "model_df['Num_Lanes'].describe()\n",
    "\n",
    "# if a road is one lane then opp lanes should be 0\n",
    "model_df['Opp_Lanes'] = model_df['Opp_Lanes'].mask(model_df['Opp_Lanes'] < 0, 0)"
   ]
  },
  {
   "cell_type": "code",
   "execution_count": 13,
   "metadata": {},
   "outputs": [
    {
     "data": {
      "image/png": "[encoded data removed]",
      "text/plain": [
       "<Figure size 432x288 with 1 Axes>"
      ]
     },
     "metadata": {
      "needs_background": "light"
     },
     "output_type": "display_data"
    }
   ],
   "source": [
    "# Surface_Wd is surface width, which should never be 0, similarly row_width\n",
    "# Let's look at the relationship between Surface_Wd and ROW_Width where they are \n",
    "# both greater than zero.\n",
    "\n",
    "surf_df = model_df.query('Surface_Wd > 0 & ROW_Width > 0 & Num_Lanes > 0')\n",
    "plt.scatter(surf_df['Surface_Wd'], surf_df['ROW_Width'], c=surf_df['Num_Lanes'])\n",
    "plt.ylabel('Right of Way Width')\n",
    "plt.xlabel('Surface Width')\n",
    "plt.show()"
   ]
  },
  {
   "cell_type": "code",
   "execution_count": 14,
   "metadata": {},
   "outputs": [
    {
     "name": "stdout",
     "output_type": "stream",
     "text": [
      "Num rows with either <= 0\n",
      "13862\n",
      "Num rows with both <= 0\n",
      "11639\n"
     ]
    }
   ],
   "source": [
    "# are the roads missing surface width the same as right of way width?\n",
    "\n",
    "print('Num rows with either <= 0')\n",
    "print(len(model_df.query('Surface_Wd <= 0 | ROW_Width <= 0')))\n",
    "print('Num rows with both <= 0')\n",
    "print(len(model_df.query('Surface_Wd <= 0 & ROW_Width <= 0')))"
   ]
  },
  {
   "cell_type": "code",
   "execution_count": 15,
   "metadata": {},
   "outputs": [
    {
     "data": {
      "text/plain": [
       "LinearRegression(copy_X=True, fit_intercept=True, n_jobs=None, normalize=False)"
      ]
     },
     "execution_count": 15,
     "metadata": {},
     "output_type": "execute_result"
    }
   ],
   "source": [
    "# there is a lot of overlap, but I can still fix about 2000 with a linear regression\n",
    "\n",
    "from sklearn.linear_model import LinearRegression\n",
    "lr = LinearRegression()\n",
    "lr.fit(surf_df[['Surface_Wd', 'Num_Lanes']], surf_df['ROW_Width'])"
   ]
  },
  {
   "cell_type": "code",
   "execution_count": 16,
   "metadata": {},
   "outputs": [
    {
     "name": "stdout",
     "output_type": "stream",
     "text": [
      "1492 rows updated\n"
     ]
    }
   ],
   "source": [
    "fixed_row_wd = np.array(model_df['ROW_Width'])\n",
    "update_count = 0\n",
    "for index, row in model_df.iterrows():\n",
    "    if (row['ROW_Width'] <= 0) and (row['Surface_Wd'] > 0) and (row['Num_Lanes'] > 0):\n",
    "        fixed_row_wd[index] = lr.intercept_ + lr.coef_[0] * row['Surface_Wd'] + lr.coef_[1] * row['Num_Lanes']\n",
    "        update_count += 1\n",
    "model_df['ROW_Width'] = fixed_row_wd\n",
    "print('{} rows updated'.format(update_count))\n",
    "        "
   ]
  },
  {
   "cell_type": "code",
   "execution_count": 17,
   "metadata": {},
   "outputs": [
    {
     "data": {
      "text/plain": [
       "LinearRegression(copy_X=True, fit_intercept=True, n_jobs=None, normalize=False)"
      ]
     },
     "execution_count": 17,
     "metadata": {},
     "output_type": "execute_result"
    }
   ],
   "source": [
    "# now fit the opposite way to fix missing Surface Width values\n",
    "\n",
    "lr.fit(surf_df[['ROW_Width', 'Num_Lanes']], surf_df['Surface_Wd'])"
   ]
  },
  {
   "cell_type": "code",
   "execution_count": 18,
   "metadata": {},
   "outputs": [
    {
     "name": "stdout",
     "output_type": "stream",
     "text": [
      "731 rows updated\n"
     ]
    }
   ],
   "source": [
    "fixed_surf_wd = np.array(model_df['Surface_Wd'])\n",
    "update_count = 0\n",
    "for index, row in model_df.iterrows():\n",
    "    if (row['Surface_Wd'] <= 0) and (row['ROW_Width'] > 0) and (row['Num_Lanes'] > 0):\n",
    "        fixed_surf_wd[index] = lr.intercept_ + lr.coef_[0] * row['ROW_Width'] + lr.coef_[1] * row['Num_Lanes']\n",
    "        update_count += 1\n",
    "model_df['Surface_Wd'] = fixed_surf_wd\n",
    "print('{} rows updated'.format(update_count))"
   ]
  },
  {
   "cell_type": "code",
   "execution_count": 19,
   "metadata": {},
   "outputs": [
    {
     "name": "stdout",
     "output_type": "stream",
     "text": [
      "0 rows updated\n"
     ]
    }
   ],
   "source": [
    "# we can use this to fix some missing lane numbers too but with rounding because num_lanes is an integer\n",
    "lr.fit(surf_df[['ROW_Width', 'Surface_Wd']], surf_df['Num_Lanes'])\n",
    "fixed_lanes = np.array(model_df['Num_Lanes'])\n",
    "update_count = 0\n",
    "for index, row in model_df.iterrows():\n",
    "    if (row['Num_Lanes'] <= 0) and (row['ROW_Width'] > 0) and (row['Surface_Wd'] > 0):\n",
    "        fixed_lanes[index] = round(lr.intercept_ + lr.coef_[0] * row['ROW_Width'] + lr.coef_[1] * row['Surface_Wd'])\n",
    "        update_count += 1\n",
    "model_df['Num_Lanes'] = fixed_lanes\n",
    "print('{} rows updated'.format(update_count))"
   ]
  },
  {
   "cell_type": "code",
   "execution_count": 20,
   "metadata": {},
   "outputs": [
    {
     "name": "stdout",
     "output_type": "stream",
     "text": [
      "0 rows updated\n"
     ]
    }
   ],
   "source": [
    "# still missing a lot of rows, unfortunately. Let's see if we can get anywhere without Num_Lanes\n",
    "lr.fit(surf_df[['Surface_Wd']], surf_df['ROW_Width'])\n",
    "fixed_surf_wd = np.array(model_df['Surface_Wd'])\n",
    "update_count = 0\n",
    "for index, row in model_df.iterrows():\n",
    "    if (row['Surface_Wd'] <= 0) and (row['ROW_Width'] > 0):\n",
    "        fixed_surf_wd[index] = lr.intercept_ + lr.coef_[0] * row['ROW_Width']\n",
    "        update_count += 1\n",
    "model_df['Surface_Wd'] = fixed_surf_wd\n",
    "print('{} rows updated'.format(update_count))"
   ]
  },
  {
   "cell_type": "code",
   "execution_count": 21,
   "metadata": {},
   "outputs": [
    {
     "name": "stdout",
     "output_type": "stream",
     "text": [
      "0 rows updated\n"
     ]
    }
   ],
   "source": [
    "lr.fit(surf_df[['ROW_Width']], surf_df['Surface_Wd'])\n",
    "fixed_row_wd = np.array(model_df['ROW_Width'])\n",
    "update_count = 0\n",
    "for index, row in model_df.iterrows():\n",
    "    if (row['ROW_Width'] <= 0) and (row['Surface_Wd'] > 0):\n",
    "        fixed_row_wd[index] = lr.intercept_ + lr.coef_[0] * row['Surface_Wd']\n",
    "        update_count += 1\n",
    "model_df['ROW_Width'] = fixed_row_wd\n",
    "print('{} rows updated'.format(update_count))"
   ]
  },
  {
   "cell_type": "code",
   "execution_count": 22,
   "metadata": {},
   "outputs": [],
   "source": [
    "# now going to replace the rest with the mean\n",
    "rep_w_mean_list_1 = ['Surface_Wd', 'ROW_Width', 'AADT', 'traffic_density']\n",
    "\n",
    "for col in rep_w_mean_list_1:\n",
    "    mean = np.mean(model_df[model_df[col] > 0][col])\n",
    "    model_df[col] = model_df[col].mask(model_df[col] <= 0, mean)\n",
    "    \n",
    "# these columns may have 0 values\n",
    "    \n",
    "rep_w_mean_list_2 = ['Shldr_Rt_W', 'Shldr_Lt_W', 'Shldr_UL_W', 'Med_Width', 'Lt_Sidewlk', 'Rt_Sidewlk']\n",
    "\n",
    "for col in rep_w_mean_list_2:\n",
    "    mean = np.mean(model_df[model_df[col] >= 0][col])\n",
    "    model_df[col] = model_df[col].mask(model_df[col] < 0, mean)"
   ]
  },
  {
   "cell_type": "code",
   "execution_count": 23,
   "metadata": {},
   "outputs": [
    {
     "data": {
      "text/html": [
       "<div>\n",
       "<style scoped>\n",
       "    .dataframe tbody tr th:only-of-type {\n",
       "        vertical-align: middle;\n",
       "    }\n",
       "\n",
       "    .dataframe tbody tr th {\n",
       "        vertical-align: top;\n",
       "    }\n",
       "\n",
       "    .dataframe thead th {\n",
       "        text-align: right;\n",
       "    }\n",
       "</style>\n",
       "<table border=\"1\" class=\"dataframe\">\n",
       "  <thead>\n",
       "    <tr style=\"text-align: right;\">\n",
       "      <th></th>\n",
       "      <th>Surface_Wd</th>\n",
       "      <th>Shldr_Rt_W</th>\n",
       "      <th>Shldr_Lt_W</th>\n",
       "      <th>Shldr_UL_W</th>\n",
       "      <th>Med_Width</th>\n",
       "      <th>Lt_Sidewlk</th>\n",
       "      <th>Rt_Sidewlk</th>\n",
       "      <th>ROW_Width</th>\n",
       "      <th>AADT</th>\n",
       "      <th>traffic_density</th>\n",
       "    </tr>\n",
       "  </thead>\n",
       "  <tbody>\n",
       "    <tr>\n",
       "      <th>count</th>\n",
       "      <td>74122.000000</td>\n",
       "      <td>74122.000000</td>\n",
       "      <td>74122.000000</td>\n",
       "      <td>74122.00000</td>\n",
       "      <td>74122.000000</td>\n",
       "      <td>74122.000000</td>\n",
       "      <td>74122.000000</td>\n",
       "      <td>74122.000000</td>\n",
       "      <td>74122.000000</td>\n",
       "      <td>7.412200e+04</td>\n",
       "    </tr>\n",
       "    <tr>\n",
       "      <th>mean</th>\n",
       "      <td>28.938072</td>\n",
       "      <td>0.366603</td>\n",
       "      <td>0.048799</td>\n",
       "      <td>0.02961</td>\n",
       "      <td>2.448446</td>\n",
       "      <td>4.168738</td>\n",
       "      <td>5.480841</td>\n",
       "      <td>58.090537</td>\n",
       "      <td>13968.546893</td>\n",
       "      <td>2.742477e+03</td>\n",
       "    </tr>\n",
       "    <tr>\n",
       "      <th>std</th>\n",
       "      <td>8.638126</td>\n",
       "      <td>1.283069</td>\n",
       "      <td>0.350261</td>\n",
       "      <td>0.40595</td>\n",
       "      <td>12.881100</td>\n",
       "      <td>3.967989</td>\n",
       "      <td>4.073945</td>\n",
       "      <td>29.281594</td>\n",
       "      <td>24038.535853</td>\n",
       "      <td>1.618279e+05</td>\n",
       "    </tr>\n",
       "    <tr>\n",
       "      <th>min</th>\n",
       "      <td>6.000000</td>\n",
       "      <td>0.000000</td>\n",
       "      <td>0.000000</td>\n",
       "      <td>0.00000</td>\n",
       "      <td>0.000000</td>\n",
       "      <td>0.000000</td>\n",
       "      <td>0.000000</td>\n",
       "      <td>4.000000</td>\n",
       "      <td>10.000000</td>\n",
       "      <td>4.238931e-04</td>\n",
       "    </tr>\n",
       "    <tr>\n",
       "      <th>25%</th>\n",
       "      <td>24.000000</td>\n",
       "      <td>0.000000</td>\n",
       "      <td>0.000000</td>\n",
       "      <td>0.00000</td>\n",
       "      <td>0.000000</td>\n",
       "      <td>0.000000</td>\n",
       "      <td>0.000000</td>\n",
       "      <td>40.000000</td>\n",
       "      <td>1154.000000</td>\n",
       "      <td>2.994103e+00</td>\n",
       "    </tr>\n",
       "    <tr>\n",
       "      <th>50%</th>\n",
       "      <td>28.000000</td>\n",
       "      <td>0.000000</td>\n",
       "      <td>0.000000</td>\n",
       "      <td>0.00000</td>\n",
       "      <td>0.000000</td>\n",
       "      <td>4.168738</td>\n",
       "      <td>6.000000</td>\n",
       "      <td>52.000000</td>\n",
       "      <td>9946.000000</td>\n",
       "      <td>2.742477e+03</td>\n",
       "    </tr>\n",
       "    <tr>\n",
       "      <th>75%</th>\n",
       "      <td>33.000000</td>\n",
       "      <td>0.000000</td>\n",
       "      <td>0.000000</td>\n",
       "      <td>0.00000</td>\n",
       "      <td>0.000000</td>\n",
       "      <td>7.000000</td>\n",
       "      <td>8.000000</td>\n",
       "      <td>61.000000</td>\n",
       "      <td>13968.546893</td>\n",
       "      <td>2.742477e+03</td>\n",
       "    </tr>\n",
       "    <tr>\n",
       "      <th>max</th>\n",
       "      <td>80.000000</td>\n",
       "      <td>25.000000</td>\n",
       "      <td>8.000000</td>\n",
       "      <td>10.00000</td>\n",
       "      <td>240.000000</td>\n",
       "      <td>28.000000</td>\n",
       "      <td>30.000000</td>\n",
       "      <td>300.000000</td>\n",
       "      <td>224649.000000</td>\n",
       "      <td>3.773565e+07</td>\n",
       "    </tr>\n",
       "  </tbody>\n",
       "</table>\n",
       "</div>"
      ],
      "text/plain": [
       "         Surface_Wd    Shldr_Rt_W    Shldr_Lt_W   Shldr_UL_W     Med_Width  \\\n",
       "count  74122.000000  74122.000000  74122.000000  74122.00000  74122.000000   \n",
       "mean      28.938072      0.366603      0.048799      0.02961      2.448446   \n",
       "std        8.638126      1.283069      0.350261      0.40595     12.881100   \n",
       "min        6.000000      0.000000      0.000000      0.00000      0.000000   \n",
       "25%       24.000000      0.000000      0.000000      0.00000      0.000000   \n",
       "50%       28.000000      0.000000      0.000000      0.00000      0.000000   \n",
       "75%       33.000000      0.000000      0.000000      0.00000      0.000000   \n",
       "max       80.000000     25.000000      8.000000     10.00000    240.000000   \n",
       "\n",
       "         Lt_Sidewlk    Rt_Sidewlk     ROW_Width           AADT  \\\n",
       "count  74122.000000  74122.000000  74122.000000   74122.000000   \n",
       "mean       4.168738      5.480841     58.090537   13968.546893   \n",
       "std        3.967989      4.073945     29.281594   24038.535853   \n",
       "min        0.000000      0.000000      4.000000      10.000000   \n",
       "25%        0.000000      0.000000     40.000000    1154.000000   \n",
       "50%        4.168738      6.000000     52.000000    9946.000000   \n",
       "75%        7.000000      8.000000     61.000000   13968.546893   \n",
       "max       28.000000     30.000000    300.000000  224649.000000   \n",
       "\n",
       "       traffic_density  \n",
       "count     7.412200e+04  \n",
       "mean      2.742477e+03  \n",
       "std       1.618279e+05  \n",
       "min       4.238931e-04  \n",
       "25%       2.994103e+00  \n",
       "50%       2.742477e+03  \n",
       "75%       2.742477e+03  \n",
       "max       3.773565e+07  "
      ]
     },
     "execution_count": 23,
     "metadata": {},
     "output_type": "execute_result"
    }
   ],
   "source": [
    "model_df[list_to_convert_float].describe()"
   ]
  },
  {
   "cell_type": "code",
   "execution_count": 24,
   "metadata": {},
   "outputs": [
    {
     "data": {
      "text/html": [
       "<div>\n",
       "<style scoped>\n",
       "    .dataframe tbody tr th:only-of-type {\n",
       "        vertical-align: middle;\n",
       "    }\n",
       "\n",
       "    .dataframe tbody tr th {\n",
       "        vertical-align: top;\n",
       "    }\n",
       "\n",
       "    .dataframe thead th {\n",
       "        text-align: right;\n",
       "    }\n",
       "</style>\n",
       "<table border=\"1\" class=\"dataframe\">\n",
       "  <thead>\n",
       "    <tr style=\"text-align: right;\">\n",
       "      <th></th>\n",
       "      <th>Speed_Lim</th>\n",
       "      <th>Op_Dir_SL</th>\n",
       "    </tr>\n",
       "  </thead>\n",
       "  <tbody>\n",
       "    <tr>\n",
       "      <th>count</th>\n",
       "      <td>74122.000000</td>\n",
       "      <td>74122.000000</td>\n",
       "    </tr>\n",
       "    <tr>\n",
       "      <th>mean</th>\n",
       "      <td>26.084806</td>\n",
       "      <td>20.010577</td>\n",
       "    </tr>\n",
       "    <tr>\n",
       "      <th>std</th>\n",
       "      <td>36.065503</td>\n",
       "      <td>36.668146</td>\n",
       "    </tr>\n",
       "    <tr>\n",
       "      <th>min</th>\n",
       "      <td>-1.000000</td>\n",
       "      <td>-1.000000</td>\n",
       "    </tr>\n",
       "    <tr>\n",
       "      <th>25%</th>\n",
       "      <td>-1.000000</td>\n",
       "      <td>-1.000000</td>\n",
       "    </tr>\n",
       "    <tr>\n",
       "      <th>50%</th>\n",
       "      <td>-1.000000</td>\n",
       "      <td>-1.000000</td>\n",
       "    </tr>\n",
       "    <tr>\n",
       "      <th>75%</th>\n",
       "      <td>30.000000</td>\n",
       "      <td>30.000000</td>\n",
       "    </tr>\n",
       "    <tr>\n",
       "      <th>max</th>\n",
       "      <td>99.000000</td>\n",
       "      <td>99.000000</td>\n",
       "    </tr>\n",
       "  </tbody>\n",
       "</table>\n",
       "</div>"
      ],
      "text/plain": [
       "          Speed_Lim     Op_Dir_SL\n",
       "count  74122.000000  74122.000000\n",
       "mean      26.084806     20.010577\n",
       "std       36.065503     36.668146\n",
       "min       -1.000000     -1.000000\n",
       "25%       -1.000000     -1.000000\n",
       "50%       -1.000000     -1.000000\n",
       "75%       30.000000     30.000000\n",
       "max       99.000000     99.000000"
      ]
     },
     "execution_count": 24,
     "metadata": {},
     "output_type": "execute_result"
    }
   ],
   "source": [
    "model_df[['Speed_Lim', 'Op_Dir_SL']].describe()"
   ]
  },
  {
   "cell_type": "code",
   "execution_count": 25,
   "metadata": {},
   "outputs": [
    {
     "data": {
      "text/plain": [
       "count    12570.000000\n",
       "mean         1.435084\n",
       "std          4.059698\n",
       "min          0.000000\n",
       "25%          0.000000\n",
       "50%          0.000000\n",
       "75%          0.000000\n",
       "max         15.000000\n",
       "Name: NHS, dtype: float64"
      ]
     },
     "execution_count": 25,
     "metadata": {},
     "output_type": "execute_result"
    }
   ],
   "source": [
    "# a speed limit of 99 makes no sense, but what else do we know about those roads\n",
    "model_df.query('Speed_Lim > 90')['NHS'].describe()"
   ]
  },
  {
   "cell_type": "code",
   "execution_count": 26,
   "metadata": {},
   "outputs": [
    {
     "name": "stdout",
     "output_type": "stream",
     "text": [
      "Mean interstate speed limit in Boston is 31.608067671768904\n"
     ]
    }
   ],
   "source": [
    "# this implies they're mostly on the interstate meaning that the speed limit \n",
    "# is going to be at least 55\n",
    "\n",
    "# what is the mean speed limit of interstates in boston\n",
    "mean_interstate_speed = np.mean(model_df.query('NHS >= 1 & Speed_Lim > 0 & Speed_Lim < 90')['Speed_Lim'])\n",
    "print('Mean interstate speed limit in Boston is {}'.format(mean_interstate_speed))"
   ]
  },
  {
   "cell_type": "code",
   "execution_count": 27,
   "metadata": {},
   "outputs": [],
   "source": [
    "# where speed limit is not known, it should be the opposite side speed limit\n",
    "model_df['Speed_Lim'] = model_df['Speed_Lim'].mask(((model_df['Speed_Lim'] <= 0) | (model_df['Speed_Lim'] > 90)) & \n",
    "                                           (model_df['Op_Dir_SL'] > 0), model_df['Op_Dir_SL'])\n",
    "                                           \n",
    "# where the speed limit is greater than 90, it should be the mean interstate speed limit that makes sense\n",
    "model_df['Speed_Lim'] = model_df['Speed_Lim'].mask(model_df['Speed_Lim'] > 90, 30)"
   ]
  },
  {
   "cell_type": "code",
   "execution_count": 28,
   "metadata": {},
   "outputs": [
    {
     "data": {
      "image/png": "[encoded data removed]",
      "text/plain": [
       "<Figure size 432x288 with 1 Axes>"
      ]
     },
     "metadata": {
      "needs_background": "light"
     },
     "output_type": "display_data"
    }
   ],
   "source": [
    "# let's see if we can model speed limit from surface_width\n",
    "speed_df = surf_df.query('Speed_Lim > 0 & Speed_Lim < 90')\n",
    "plt.scatter(speed_df['Surface_Wd'], speed_df['Speed_Lim'], c=speed_df['Num_Lanes'])\n",
    "plt.xlabel('Surface Width')\n",
    "plt.ylabel('Speed Limit')\n",
    "plt.show()"
   ]
  },
  {
   "cell_type": "code",
   "execution_count": 29,
   "metadata": {},
   "outputs": [
    {
     "data": {
      "text/plain": [
       "35"
      ]
     },
     "execution_count": 29,
     "metadata": {},
     "output_type": "execute_result"
    }
   ],
   "source": [
    "# define rounding function so we can get speed limits in units of 5 as they always are in the real world\n",
    "def myround(x, base=5):\n",
    "    return base * round(x/base)\n",
    "\n",
    "myround(33.2)"
   ]
  },
  {
   "cell_type": "code",
   "execution_count": 30,
   "metadata": {},
   "outputs": [
    {
     "name": "stdout",
     "output_type": "stream",
     "text": [
      "37898 rows updated\n"
     ]
    }
   ],
   "source": [
    "# based on that, number of lanes seems like a better predictor\n",
    "lr.fit(surf_df[['Num_Lanes']], surf_df['Speed_Lim'])\n",
    "fixed_sl = np.array(model_df['Speed_Lim'])\n",
    "update_count = 0\n",
    "for index, row in model_df.iterrows():\n",
    "    if (row['Speed_Lim'] <= 0) and (row['Num_Lanes'] > 0):\n",
    "        fixed_sl[index] = myround(lr.intercept_ + lr.coef_[0] * row['Num_Lanes'])\n",
    "        update_count += 1\n",
    "        \n",
    "model_df['Speed_Lim'] = fixed_sl\n",
    "print('{} rows updated'.format(update_count))\n"
   ]
  },
  {
   "cell_type": "code",
   "execution_count": 31,
   "metadata": {},
   "outputs": [
    {
     "data": {
      "image/png": "[encoded data removed]",
      "text/plain": [
       "<Figure size 432x288 with 1 Axes>"
      ]
     },
     "metadata": {
      "needs_background": "light"
     },
     "output_type": "display_data"
    }
   ],
   "source": [
    "# take a look at graph to see how that worked out\n",
    "plt.scatter(model_df['Surface_Wd'], model_df['Speed_Lim'], c=model_df['Num_Lanes'])\n",
    "plt.xlabel('Surface Width')\n",
    "plt.ylabel('Speed Limit')\n",
    "plt.show()"
   ]
  },
  {
   "cell_type": "code",
   "execution_count": 32,
   "metadata": {},
   "outputs": [],
   "source": [
    "# update opposite direction speed limit to be the same as speed limit where it is not specified\n",
    "model_df['Op_Dir_SL'] = model_df['Op_Dir_SL'].mask(model_df['Op_Dir_SL'] <= 0, model_df['Speed_Lim'])"
   ]
  },
  {
   "cell_type": "code",
   "execution_count": 34,
   "metadata": {},
   "outputs": [],
   "source": [
    "# this is a good time to export the cleaned data before I convert everything to dummy variables\n",
    "model_df.to_csv(r'data/cleaned_data/model_df.csv')"
   ]
  },
  {
   "cell_type": "code",
   "execution_count": 35,
   "metadata": {},
   "outputs": [],
   "source": [
    "# convert dataframe to dataframe with dummies for all categorical variables\n",
    "md_dum = pd.get_dummies(model_df, columns=['Num_Lanes', 'Route_System', 'Route_Direction', 'Facility',\n",
    "                                           'F_Class', 'F_F_Class', 'Jurisdictn', 'NHS', 'Control', 'Opp_Lanes', \n",
    "                                           'Surface_Tp', 'Surface_Wd', 'Shldr_Rt_W', 'Shldr_Rt_T', 'Shldr_Lt_T',\n",
    "                                           'Shldr_UL_T', 'Med_Type', 'Curb', 'Operation', 'T_Exc_Type', 'T_Exc_Time',\n",
    "                                           'Truck_Rte', 'Struct_Cnd', 'Terrain', 'Toll_Road', 'MHS', 'City',\n",
    "                                           'Mun_Type', 'County', 'Hwy_Dist', 'City_Maint', 'AADT_Year',\n",
    "                                           'AADT_Deriv'])"
   ]
  },
  {
   "cell_type": "code",
   "execution_count": 36,
   "metadata": {},
   "outputs": [],
   "source": [
    "md_dum.to_csv(r'data/cleaned_data/md_dum.csv')"
   ]
  },
  {
   "cell_type": "code",
   "execution_count": null,
   "metadata": {},
   "outputs": [],
   "source": []
  }
 ],
 "metadata": {
  "kernelspec": {
   "display_name": "Python 3",
   "language": "python",
   "name": "python3"
  },
  "language_info": {
   "codemirror_mode": {
    "name": "ipython",
    "version": 3
   },
   "file_extension": ".py",
   "mimetype": "text/x-python",
   "name": "python",
   "nbconvert_exporter": "python",
   "pygments_lexer": "ipython3",
   "version": "3.7.6"
  }
 },
 "nbformat": 4,
 "nbformat_minor": 4
}
