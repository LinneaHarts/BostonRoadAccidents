{
 "cells": [
  {
   "cell_type": "code",
   "execution_count": null,
   "metadata": {},
   "outputs": [],
   "source": [
    "from sklearn.preprocessing import StandardScaler\n",
    "from sklearn.model_selection import GridSearchCV\n",
    "from sklearn.pipeline import Pipeline\n",
    "scaler = StandardScaler()\n",
    "steps = [('scaler', scaler), ('ridge_regression', ri)]\n",
    "params = {'ridge_regression__alpha': [0.001, 0.01, 0.1, 1, 10, 100, 1000]}\n",
    "pipeline = Pipeline(steps)\n",
    "cv = GridSearchCV(pipeline, param_grid=params)\n",
    "cv.fit(X_car_train, y_car_train)\n",
    "y_pred = cv.predict(X_car_test)\n",
    "\n",
    "# Compute and print metrics\n",
    "print(\"Accuracy: {}\".format(cv.score(X_car_test, y_car_test)))\n",
    "print(\"Tuned Model Parameters: {}\".format(cv.best_params_))"
   ]
  },
  {
   "cell_type": "code",
   "execution_count": null,
   "metadata": {},
   "outputs": [],
   "source": [
    "from sklearn.linear_model import Lasso\n",
    "la = Lasso()\n",
    "steps = [('scaler', scaler), ('lasso', la)]\n",
    "params = {'lasso__alpha': [0.001, 0.01, 0.1, 1, 10, 100, 1000]}\n",
    "pipeline = Pipeline(steps)\n",
    "cv = GridSearchCV(pipeline, param_grid=params)\n",
    "cv.fit(X_car_train, y_car_train)\n",
    "y_pred = cv.predict(X_car_test)\n",
    "\n",
    "# Compute and print metrics\n",
    "print(\"Accuracy: {}\".format(cv.score(X_car_test, y_car_test)))\n",
    "print(\"Tuned Model Parameters: {}\".format(cv.best_params_))"
   ]
  },
  {
   "cell_type": "code",
   "execution_count": null,
   "metadata": {},
   "outputs": [],
   "source": [
    "from sklearn.linear_model import Lasso\n",
    "la = Lasso(max_iter=10000)\n",
    "steps = [('scaler', scaler), ('lasso', la)]\n",
    "params = {'lasso__alpha': [0.001, 0.01, 0.1, 1, 10, 100, 1000]}\n",
    "pipeline = Pipeline(steps)\n",
    "cv = GridSearchCV(pipeline, param_grid=params)\n",
    "cv.fit(X_car_train, y_car_train)\n",
    "y_pred = cv.predict(X_car_test)\n",
    "\n",
    " "
   ]
  },
  {
   "cell_type": "code",
   "execution_count": null,
   "metadata": {},
   "outputs": [],
   "source": []
  },
  {
   "cell_type": "code",
   "execution_count": null,
   "metadata": {},
   "outputs": [],
   "source": []
  },
  {
   "cell_type": "code",
   "execution_count": null,
   "metadata": {},
   "outputs": [],
   "source": []
  }
 ],
 "metadata": {
  "kernelspec": {
   "display_name": "Python 3",
   "language": "python",
   "name": "python3"
  },
  "language_info": {
   "codemirror_mode": {
    "name": "ipython",
    "version": 3
   },
   "file_extension": ".py",
   "mimetype": "text/x-python",
   "name": "python",
   "nbconvert_exporter": "python",
   "pygments_lexer": "ipython3",
   "version": "3.7.6"
  }
 },
 "nbformat": 4,
 "nbformat_minor": 4
}
