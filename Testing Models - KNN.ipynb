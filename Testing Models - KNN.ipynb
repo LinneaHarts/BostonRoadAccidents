{
 "cells": [
  {
   "cell_type": "markdown",
   "metadata": {},
   "source": [
    "# Testing Models: K Nearest Neighbors #\n",
    "\n",
    "In this notebook I will test K Nearest Neighbor models for both regression and classification."
   ]
  },
  {
   "cell_type": "code",
   "execution_count": 11,
   "metadata": {},
   "outputs": [],
   "source": [
    "import pandas as pd\n",
    "import numpy as np\n",
    "import seaborn as sns\n",
    "\n",
    "from matplotlib import pyplot as plt\n",
    "\n",
    "from sklearn import neighbors\n",
    "from sklearn.metrics import mean_squared_error, confusion_matrix, classification_report\n",
    "from sklearn.model_selection import train_test_split\n",
    "from math import sqrt"
   ]
  },
  {
   "cell_type": "code",
   "execution_count": 2,
   "metadata": {},
   "outputs": [],
   "source": [
    "# import data\n",
    "df = pd.read_csv('data/cleaned_data/md_dum.csv')\n",
    "car_y = df.car_acc_score\n",
    "car_X = df.drop(columns=['Unnamed: 0', 'car_acc_score', 'car_dens_score', 'bike_dens_score'])\n",
    "bike_y = df.bike_acc_score\n",
    "bike_X = df.drop(columns=['Unnamed: 0', 'bike_acc_score', 'car_dens_score', 'bike_dens_score'])"
   ]
  },
  {
   "cell_type": "code",
   "execution_count": 3,
   "metadata": {},
   "outputs": [],
   "source": [
    "# train test split for regression\n",
    "X_car_train, X_car_test, y_car_train, y_car_test = train_test_split(car_X, car_y, test_size=0.3, random_state=18,\n",
    "                                                                   shuffle=True, stratify=car_y)\n",
    "X_bike_train, X_bike_test, y_bike_train, y_bike_test = train_test_split(bike_X, bike_y, test_size=0.3, random_state=18,\n",
    "                                                                   shuffle=True, stratify=car_y)"
   ]
  },
  {
   "cell_type": "markdown",
   "metadata": {},
   "source": [
    "### KNN Regression ###\n",
    "\n",
    "First I want to find the right number of nearest neighbors for the KNN regressor by making an elbow plot."
   ]
  },
  {
   "cell_type": "code",
   "execution_count": 4,
   "metadata": {},
   "outputs": [
    {
     "name": "stdout",
     "output_type": "stream",
     "text": [
      "RMSE value for k=  1 is: 11.216850547521055\n",
      "RMSE value for k=  2 is: 11.391273309575057\n",
      "RMSE value for k=  3 is: 10.185526231463601\n",
      "RMSE value for k=  4 is: 9.759526987688973\n",
      "RMSE value for k=  5 is: 9.488318842170633\n",
      "RMSE value for k=  6 is: 9.300098275525029\n",
      "RMSE value for k=  7 is: 9.195613905350598\n",
      "RMSE value for k=  8 is: 9.133199046589132\n",
      "RMSE value for k=  9 is: 9.0749276669399\n",
      "RMSE value for k=  10 is: 9.02123506048141\n"
     ]
    }
   ],
   "source": [
    "rmse_val = []\n",
    "\n",
    "for K in range(10):\n",
    "    K = K+1\n",
    "    model = neighbors.KNeighborsRegressor(n_neighbors = K)\n",
    "    model.fit(X_car_train, y_car_train)  #fit the model\n",
    "    pred=model.predict(X_car_test) #make prediction on test set\n",
    "    error = sqrt(mean_squared_error(y_car_test,pred)) #calculate rmse\n",
    "    rmse_val.append(error) #store rmse values\n",
    "    print('RMSE value for k= ' , K , 'is:', error)"
   ]
  },
  {
   "cell_type": "code",
   "execution_count": 5,
   "metadata": {},
   "outputs": [
    {
     "data": {
      "text/plain": [
       "<matplotlib.axes._subplots.AxesSubplot at 0x1a601185648>"
      ]
     },
     "execution_count": 5,
     "metadata": {},
     "output_type": "execute_result"
    },
    {
     "data": {
      "image/png": "[encoded data removed]",
      "text/plain": [
       "<Figure size 432x288 with 1 Axes>"
      ]
     },
     "metadata": {
      "needs_background": "light"
     },
     "output_type": "display_data"
    }
   ],
   "source": [
    "#elbow curve \n",
    "curve = pd.DataFrame(rmse_val) \n",
    "curve.plot()"
   ]
  },
  {
   "cell_type": "markdown",
   "metadata": {},
   "source": [
    "6 looks like a good number of nearest neighbors"
   ]
  },
  {
   "cell_type": "code",
   "execution_count": 6,
   "metadata": {},
   "outputs": [
    {
     "data": {
      "text/plain": [
       "-0.006893725310570753"
      ]
     },
     "execution_count": 6,
     "metadata": {},
     "output_type": "execute_result"
    }
   ],
   "source": [
    "model = neighbors.KNeighborsRegressor(n_neighbors = 6)\n",
    "model.fit(X_car_train, y_car_train) \n",
    "model.score(X_car_test, y_car_test)"
   ]
  },
  {
   "cell_type": "markdown",
   "metadata": {},
   "source": [
    "That score means that KNN Regression is pretty useless for this data set. Let's see about classification.\n",
    "\n",
    "### KNN Classification ###"
   ]
  },
  {
   "cell_type": "code",
   "execution_count": 7,
   "metadata": {},
   "outputs": [],
   "source": [
    "car_c_y = df.car_acc_score.mask(df.car_acc_score > 0, 1)\n",
    "X_car_c_train, X_car_c_test, y_car_c_train, y_car_c_test = train_test_split(car_X, car_c_y, test_size=0.3, \n",
    "                                                                            random_state=18,\n",
    "                                                                            shuffle=True, stratify=car_c_y)\n",
    "bike_c_y = df.bike_acc_score.mask(df.bike_acc_score > 0, 1)\n",
    "X_bike_c_train, X_bike_c_test, y_bike_c_train, y_bike_c_test = train_test_split(bike_X, bike_c_y, test_size=0.3, \n",
    "                                                                            random_state=18,\n",
    "                                                                            shuffle=True, stratify=bike_c_y)"
   ]
  },
  {
   "cell_type": "code",
   "execution_count": 8,
   "metadata": {},
   "outputs": [
    {
     "data": {
      "text/plain": [
       "0.8439987408373432"
      ]
     },
     "execution_count": 8,
     "metadata": {},
     "output_type": "execute_result"
    }
   ],
   "source": [
    "model = neighbors.KNeighborsClassifier(n_neighbors = 6)\n",
    "model.fit(X_car_c_train, y_car_c_train) \n",
    "model.score(X_car_c_test, y_car_c_test)"
   ]
  },
  {
   "cell_type": "markdown",
   "metadata": {},
   "source": [
    "That's much better. Let's see how the confusion matrix looks."
   ]
  },
  {
   "cell_type": "code",
   "execution_count": 9,
   "metadata": {},
   "outputs": [
    {
     "name": "stdout",
     "output_type": "stream",
     "text": [
      "[[11065  1418]\n",
      " [ 2051  7703]]\n"
     ]
    },
    {
     "data": {
      "image/png": "[encoded data removed]",
      "text/plain": [
       "<Figure size 432x288 with 2 Axes>"
      ]
     },
     "metadata": {
      "needs_background": "light"
     },
     "output_type": "display_data"
    }
   ],
   "source": [
    "pred = model.predict(X_car_c_test)\n",
    "c=confusion_matrix(y_car_c_test, pred)\n",
    "print(c)\n",
    "sns.heatmap(c,cmap='BrBG',annot=True)\n",
    "plt.show()"
   ]
  },
  {
   "cell_type": "code",
   "execution_count": 12,
   "metadata": {},
   "outputs": [
    {
     "name": "stdout",
     "output_type": "stream",
     "text": [
      "              precision    recall  f1-score   support\n",
      "\n",
      "           0       0.84      0.89      0.86     12483\n",
      "           1       0.84      0.79      0.82      9754\n",
      "\n",
      "    accuracy                           0.84     22237\n",
      "   macro avg       0.84      0.84      0.84     22237\n",
      "weighted avg       0.84      0.84      0.84     22237\n",
      "\n"
     ]
    }
   ],
   "source": [
    "print(classification_report(y_car_c_test, pred))"
   ]
  },
  {
   "cell_type": "markdown",
   "metadata": {},
   "source": [
    "Much better, much lower levels of false classifications. \n",
    "\n",
    "It's worth looking to see how this behaves with bike classification data also."
   ]
  },
  {
   "cell_type": "code",
   "execution_count": 13,
   "metadata": {},
   "outputs": [
    {
     "data": {
      "text/plain": [
       "0.8612672572739128"
      ]
     },
     "execution_count": 13,
     "metadata": {},
     "output_type": "execute_result"
    }
   ],
   "source": [
    "bike_knn  = neighbors.KNeighborsClassifier(n_neighbors = 6)\n",
    "bike_knn.fit(X_bike_c_train, y_bike_c_train) \n",
    "bike_knn.score(X_bike_c_test, y_bike_c_test)"
   ]
  },
  {
   "cell_type": "code",
   "execution_count": 14,
   "metadata": {},
   "outputs": [
    {
     "name": "stdout",
     "output_type": "stream",
     "text": [
      "[[16702   824]\n",
      " [ 2261  2450]]\n"
     ]
    },
    {
     "data": {
      "image/png": "[encoded data removed]",
      "text/plain": [
       "<Figure size 432x288 with 2 Axes>"
      ]
     },
     "metadata": {
      "needs_background": "light"
     },
     "output_type": "display_data"
    }
   ],
   "source": [
    "pred = bike_knn.predict(X_bike_c_test)\n",
    "c=confusion_matrix(y_bike_c_test, pred)\n",
    "print(c)\n",
    "sns.heatmap(c,cmap='BrBG',annot=True)\n",
    "plt.show()"
   ]
  },
  {
   "cell_type": "code",
   "execution_count": 15,
   "metadata": {},
   "outputs": [
    {
     "name": "stdout",
     "output_type": "stream",
     "text": [
      "              precision    recall  f1-score   support\n",
      "\n",
      "           0       0.88      0.95      0.92     17526\n",
      "           1       0.75      0.52      0.61      4711\n",
      "\n",
      "    accuracy                           0.86     22237\n",
      "   macro avg       0.81      0.74      0.76     22237\n",
      "weighted avg       0.85      0.86      0.85     22237\n",
      "\n"
     ]
    }
   ],
   "source": [
    "print(classification_report(y_bike_c_test, pred))"
   ]
  },
  {
   "cell_type": "markdown",
   "metadata": {},
   "source": [
    "We get 10% false positives, but it still looks like the KNN classifier is a definitely contender! Next to try SVM regressors. [Go>>](Testing%20Models%20-%20SVM%20Regressors.ipynb)"
   ]
  },
  {
   "cell_type": "code",
   "execution_count": null,
   "metadata": {},
   "outputs": [],
   "source": []
  }
 ],
 "metadata": {
  "kernelspec": {
   "display_name": "Python 3",
   "language": "python",
   "name": "python3"
  },
  "language_info": {
   "codemirror_mode": {
    "name": "ipython",
    "version": 3
   },
   "file_extension": ".py",
   "mimetype": "text/x-python",
   "name": "python",
   "nbconvert_exporter": "python",
   "pygments_lexer": "ipython3",
   "version": "3.7.6"
  }
 },
 "nbformat": 4,
 "nbformat_minor": 4
}
