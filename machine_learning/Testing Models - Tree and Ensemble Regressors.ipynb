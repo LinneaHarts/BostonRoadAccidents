{
 "cells": [
  {
   "cell_type": "markdown",
   "metadata": {},
   "source": [
    "# Tree and Ensemble Regressors #\n",
    "\n",
    "This is the last type of regressors I will try on the accident data. If none of these have good outcomes, I'm going to give up using regression on this data and concentrate only on classification, i.e. predicting locations that will likely have at least one accident."
   ]
  },
  {
   "cell_type": "code",
   "execution_count": 1,
   "metadata": {},
   "outputs": [],
   "source": [
    "import pandas as pd\n",
    "import numpy as np\n",
    "\n",
    "from matplotlib import pyplot as plt\n",
    "\n",
    "from sklearn.model_selection import train_test_split\n",
    "from sklearn.metrics import r2_score\n",
    "from sklearn import tree\n",
    "from sklearn import ensemble"
   ]
  },
  {
   "cell_type": "code",
   "execution_count": 2,
   "metadata": {},
   "outputs": [],
   "source": [
    "# read in data set with categorical variables turned into dummy variablees\n",
    "df = pd.read_csv('data/cleaned_data/md_dum.csv')\n",
    "\n",
    "# create X and y values for modeling\n",
    "car_y = df.car_acc_score\n",
    "car_X = df.drop(columns=['Unnamed: 0', 'car_acc_score', 'car_dens_score', 'bike_dens_score'])\n",
    "bike_y = df.bike_acc_score\n",
    "bike_X = df.drop(columns=['Unnamed: 0', 'bike_acc_score', 'car_dens_score', 'bike_dens_score'])"
   ]
  },
  {
   "cell_type": "code",
   "execution_count": 3,
   "metadata": {},
   "outputs": [],
   "source": [
    "# do train test split\n",
    "X_car_train, X_car_test, y_car_train, y_car_test = train_test_split(car_X, car_y, test_size=0.3, random_state=18,\n",
    "                                                                   shuffle=True, stratify=car_y)\n",
    "X_bike_train, X_bike_test, y_bike_train, y_bike_test = train_test_split(bike_X, bike_y, test_size=0.3, random_state=18,\n",
    "                                                                   shuffle=True, stratify=car_y)"
   ]
  },
  {
   "cell_type": "markdown",
   "metadata": {},
   "source": [
    "### Decision Tree Regressor ###"
   ]
  },
  {
   "cell_type": "code",
   "execution_count": 4,
   "metadata": {},
   "outputs": [],
   "source": [
    "dtr = tree.DecisionTreeRegressor()"
   ]
  },
  {
   "cell_type": "code",
   "execution_count": 17,
   "metadata": {},
   "outputs": [
    {
     "name": "stdout",
     "output_type": "stream",
     "text": [
      "Decision Tree Regression Score on car accidents: -0.4292589072573687\n"
     ]
    }
   ],
   "source": [
    "dtr.fit(X_car_train, y_car_train)\n",
    "pred = dtr.predict(X_car_test)\n",
    "dtr_r2 = r2_score(y_car_test, pred)\n",
    "print('Decision Tree Regression Score on car accidents: {}'.format(dtr_r2))"
   ]
  },
  {
   "cell_type": "code",
   "execution_count": 5,
   "metadata": {},
   "outputs": [
    {
     "name": "stdout",
     "output_type": "stream",
     "text": [
      "Decision Tree Regression Score on bike accidents: 0.03306168329917303\n"
     ]
    }
   ],
   "source": [
    "dtr.fit(X_bike_train, y_bike_train)\n",
    "pred = dtr.predict(X_bike_test)\n",
    "dtr_r2 = r2_score(y_bike_test, pred)\n",
    "print('Decision Tree Regression Score on bike accidents: {}'.format(dtr_r2))"
   ]
  },
  {
   "cell_type": "markdown",
   "metadata": {},
   "source": [
    "### Random Forest Regressor ###"
   ]
  },
  {
   "cell_type": "code",
   "execution_count": 6,
   "metadata": {},
   "outputs": [],
   "source": [
    "rfr = ensemble.RandomForestRegressor()"
   ]
  },
  {
   "cell_type": "code",
   "execution_count": 6,
   "metadata": {},
   "outputs": [
    {
     "name": "stdout",
     "output_type": "stream",
     "text": [
      "Random Forest Regression Score on car accidents: 0.10908453089581127\n"
     ]
    }
   ],
   "source": [
    "rfr.fit(X_car_train, y_car_train)\n",
    "car_score = rfr.score(X_car_test, y_car_test)\n",
    "print('Random Forest Regression Score on car accidents: {}'.format(car_score))"
   ]
  },
  {
   "cell_type": "code",
   "execution_count": 7,
   "metadata": {},
   "outputs": [
    {
     "name": "stdout",
     "output_type": "stream",
     "text": [
      "Random Forest Regression Score on bike accidents: 0.4514587420452767\n"
     ]
    }
   ],
   "source": [
    "rfr.fit(X_bike_train, y_bike_train)\n",
    "bike_score = rfr.score(X_bike_test, y_bike_test)\n",
    "print('Random Forest Regression Score on bike accidents: {}'.format(bike_score))"
   ]
  },
  {
   "cell_type": "markdown",
   "metadata": {},
   "source": [
    "### Bagging Regressor ###"
   ]
  },
  {
   "cell_type": "code",
   "execution_count": 8,
   "metadata": {},
   "outputs": [],
   "source": [
    "br = ensemble.BaggingRegressor()"
   ]
  },
  {
   "cell_type": "code",
   "execution_count": 10,
   "metadata": {},
   "outputs": [
    {
     "name": "stdout",
     "output_type": "stream",
     "text": [
      "Bagging Regression Score on car accidents: 0.024822322498819327\n"
     ]
    }
   ],
   "source": [
    "br.fit(X_car_train, y_car_train)\n",
    "car_score = br.score(X_car_test, y_car_test)\n",
    "print('Bagging Regression Score on car accidents: {}'.format(car_score))"
   ]
  },
  {
   "cell_type": "code",
   "execution_count": 9,
   "metadata": {},
   "outputs": [
    {
     "name": "stdout",
     "output_type": "stream",
     "text": [
      "Bagging Regression Score on bike accidents: 0.4220904757449081\n"
     ]
    }
   ],
   "source": [
    "br.fit(X_bike_train, y_bike_train)\n",
    "bike_score = br.score(X_bike_test, y_bike_test)\n",
    "print('Bagging Regression Score on bike accidents: {}'.format(bike_score))"
   ]
  },
  {
   "cell_type": "markdown",
   "metadata": {},
   "source": [
    "### Gradient Boosting Regressor ###"
   ]
  },
  {
   "cell_type": "code",
   "execution_count": 10,
   "metadata": {},
   "outputs": [],
   "source": [
    "gbr = ensemble.GradientBoostingRegressor()"
   ]
  },
  {
   "cell_type": "code",
   "execution_count": 11,
   "metadata": {},
   "outputs": [
    {
     "name": "stdout",
     "output_type": "stream",
     "text": [
      "Gradient Boosting Regression Score on car accidents: 0.09855219511407176\n"
     ]
    }
   ],
   "source": [
    "gbr.fit(X_car_train, y_car_train)\n",
    "car_score = gbr.score(X_car_test, y_car_test)\n",
    "print('Gradient Boosting Regression Score on car accidents: {}'.format(car_score))"
   ]
  },
  {
   "cell_type": "code",
   "execution_count": 11,
   "metadata": {},
   "outputs": [
    {
     "name": "stdout",
     "output_type": "stream",
     "text": [
      "Gradient Boosting Regression Score on bike accidents: 0.2760963993934691\n"
     ]
    }
   ],
   "source": [
    "gbr.fit(X_bike_train, y_bike_train)\n",
    "bike_score = gbr.score(X_bike_test, y_bike_test)\n",
    "print('Gradient Boosting Regression Score on bike accidents: {}'.format(bike_score))"
   ]
  },
  {
   "cell_type": "markdown",
   "metadata": {},
   "source": [
    "### AdaBoost Regressor ###"
   ]
  },
  {
   "cell_type": "code",
   "execution_count": 12,
   "metadata": {},
   "outputs": [],
   "source": [
    "abr = ensemble.AdaBoostRegressor()"
   ]
  },
  {
   "cell_type": "code",
   "execution_count": 12,
   "metadata": {},
   "outputs": [
    {
     "name": "stdout",
     "output_type": "stream",
     "text": [
      "AdaBoost Regression Score on car accidents: -0.5292187350971909\n"
     ]
    }
   ],
   "source": [
    "abr.fit(X_car_train, y_car_train)\n",
    "car_score = abr.score(X_car_test, y_car_test)\n",
    "print('AdaBoost Regression Score on car accidents: {}'.format(car_score))"
   ]
  },
  {
   "cell_type": "code",
   "execution_count": 13,
   "metadata": {},
   "outputs": [
    {
     "name": "stdout",
     "output_type": "stream",
     "text": [
      "AdaBoost Regression Score on bike accidents: -0.15733427820141488\n"
     ]
    }
   ],
   "source": [
    "abr.fit(X_bike_train, y_bike_train)\n",
    "bike_score = abr.score(X_bike_test, y_bike_test)\n",
    "print('AdaBoost Regression Score on bike accidents: {}'.format(bike_score))"
   ]
  },
  {
   "cell_type": "markdown",
   "metadata": {},
   "source": [
    "Yes, none of these performed very well. I am going to focus on classifiers for this project going forward, not regressors. Next step is trying tree and ensemble classifiers. [Go >>](Testing%20Models%20-%20Tree%20and%20Ensemble%20Classifiers.ipynb)"
   ]
  },
  {
   "cell_type": "code",
   "execution_count": null,
   "metadata": {},
   "outputs": [],
   "source": []
  }
 ],
 "metadata": {
  "kernelspec": {
   "display_name": "Python 3",
   "language": "python",
   "name": "python3"
  },
  "language_info": {
   "codemirror_mode": {
    "name": "ipython",
    "version": 3
   },
   "file_extension": ".py",
   "mimetype": "text/x-python",
   "name": "python",
   "nbconvert_exporter": "python",
   "pygments_lexer": "ipython3",
   "version": "3.7.6"
  }
 },
 "nbformat": 4,
 "nbformat_minor": 4
}
