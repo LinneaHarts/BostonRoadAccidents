{
 "cells": [
  {
   "cell_type": "markdown",
   "metadata": {},
   "source": [
    "# Testing Models: Logistic Regression #\n",
    "\n",
    "This notebook applies logistic regression to the data set of car and bike accidents, trying to predict the presence of accidents, not the number."
   ]
  },
  {
   "cell_type": "code",
   "execution_count": 12,
   "metadata": {},
   "outputs": [],
   "source": [
    "import pandas as pd\n",
    "import numpy as np\n",
    "import seaborn as sns\n",
    "\n",
    "from matplotlib import pyplot as plt\n",
    "\n",
    "from sklearn.model_selection import train_test_split, GridSearchCV\n",
    "from sklearn.linear_model import LogisticRegression\n",
    "from sklearn.pipeline import Pipeline\n",
    "from sklearn.metrics import confusion_matrix, classification_report"
   ]
  },
  {
   "cell_type": "code",
   "execution_count": 3,
   "metadata": {},
   "outputs": [],
   "source": [
    "# read in data set with categorical variables turned into dummy variablees\n",
    "df = pd.read_csv('data/cleaned_data/md_dum.csv')"
   ]
  },
  {
   "cell_type": "code",
   "execution_count": 4,
   "metadata": {},
   "outputs": [],
   "source": [
    "# create X and y values for modeling, this time using a mask to create 1 and 0 values for classification\n",
    "car_c_y = df.car_acc_score.mask(df.car_acc_score > 0, 1)\n",
    "car_X = df.drop(columns=['Unnamed: 0', 'car_acc_score', 'car_dens_score', 'bike_dens_score'])\n",
    "bike_c_y = df.bike_acc_score.mask(df.bike_acc_score > 0, 1)\n",
    "bike_X = df.drop(columns=['Unnamed: 0', 'bike_acc_score', 'car_dens_score', 'bike_dens_score'])"
   ]
  },
  {
   "cell_type": "code",
   "execution_count": 5,
   "metadata": {},
   "outputs": [],
   "source": [
    "# train test split\n",
    "X_car_c_train, X_car_c_test, y_car_c_train, y_car_c_test = train_test_split(car_X, car_c_y, test_size=0.3, \n",
    "                                                                            random_state=18,\n",
    "                                                                            shuffle=True, stratify=car_c_y)\n",
    "X_bike_c_train, X_bike_c_test, y_bike_c_train, y_bike_c_test = train_test_split(bike_X, bike_c_y, test_size=0.3, \n",
    "                                                                            random_state=18,\n",
    "                                                                            shuffle=True, stratify=bike_c_y)"
   ]
  },
  {
   "cell_type": "markdown",
   "metadata": {},
   "source": [
    "From here on, I will test first with car accidents to see if the model is worth running on bike accidents as well since some of the models are pretty time-consuming to apply.\n",
    "\n",
    "### Logistic Regression ###"
   ]
  },
  {
   "cell_type": "code",
   "execution_count": 6,
   "metadata": {},
   "outputs": [
    {
     "name": "stdout",
     "output_type": "stream",
     "text": [
      "Logistic Regression Score on car accidents is: 0.6460853532400953\n"
     ]
    },
    {
     "name": "stderr",
     "output_type": "stream",
     "text": [
      "C:\\Users\\linne\\Anaconda3\\lib\\site-packages\\sklearn\\linear_model\\_logistic.py:940: ConvergenceWarning: lbfgs failed to converge (status=1):\n",
      "STOP: TOTAL NO. of ITERATIONS REACHED LIMIT.\n",
      "\n",
      "Increase the number of iterations (max_iter) or scale the data as shown in:\n",
      "    https://scikit-learn.org/stable/modules/preprocessing.html\n",
      "Please also refer to the documentation for alternative solver options:\n",
      "    https://scikit-learn.org/stable/modules/linear_model.html#logistic-regression\n",
      "  extra_warning_msg=_LOGISTIC_SOLVER_CONVERGENCE_MSG)\n"
     ]
    }
   ],
   "source": [
    "log = LogisticRegression()\n",
    "log.fit(X_car_c_train, y_car_c_train)\n",
    "log_score = log.score(X_car_c_test, y_car_c_test)\n",
    "print('Logistic Regression Score on car accidents is: {}'.format(log_score))"
   ]
  },
  {
   "cell_type": "code",
   "execution_count": 7,
   "metadata": {},
   "outputs": [
    {
     "name": "stdout",
     "output_type": "stream",
     "text": [
      "Accuracy: 0.6472096056122678\n",
      "Tuned Model Parameters: {'max_iter': 1000}\n"
     ]
    },
    {
     "name": "stderr",
     "output_type": "stream",
     "text": [
      "C:\\Users\\linne\\Anaconda3\\lib\\site-packages\\sklearn\\linear_model\\_logistic.py:940: ConvergenceWarning: lbfgs failed to converge (status=1):\n",
      "STOP: TOTAL NO. of ITERATIONS REACHED LIMIT.\n",
      "\n",
      "Increase the number of iterations (max_iter) or scale the data as shown in:\n",
      "    https://scikit-learn.org/stable/modules/preprocessing.html\n",
      "Please also refer to the documentation for alternative solver options:\n",
      "    https://scikit-learn.org/stable/modules/linear_model.html#logistic-regression\n",
      "  extra_warning_msg=_LOGISTIC_SOLVER_CONVERGENCE_MSG)\n"
     ]
    }
   ],
   "source": [
    "# performing a Grid Search to determine the right max_iter\n",
    "\n",
    "params = {'max_iter': [1000, 10000, 100000]}\n",
    "cv = GridSearchCV(log, params)\n",
    "cv.fit(X_car_c_train, y_car_c_train)\n",
    "\n",
    "# Compute and print metrics\n",
    "print(\"Accuracy: {}\".format(cv.score(X_car_c_test, y_car_c_test)))\n",
    "print(\"Tuned Model Parameters: {}\".format(cv.best_params_))"
   ]
  },
  {
   "cell_type": "code",
   "execution_count": 8,
   "metadata": {},
   "outputs": [
    {
     "name": "stderr",
     "output_type": "stream",
     "text": [
      "C:\\Users\\linne\\Anaconda3\\lib\\site-packages\\sklearn\\linear_model\\_logistic.py:940: ConvergenceWarning: lbfgs failed to converge (status=1):\n",
      "STOP: TOTAL NO. of ITERATIONS REACHED LIMIT.\n",
      "\n",
      "Increase the number of iterations (max_iter) or scale the data as shown in:\n",
      "    https://scikit-learn.org/stable/modules/preprocessing.html\n",
      "Please also refer to the documentation for alternative solver options:\n",
      "    https://scikit-learn.org/stable/modules/linear_model.html#logistic-regression\n",
      "  extra_warning_msg=_LOGISTIC_SOLVER_CONVERGENCE_MSG)\n"
     ]
    },
    {
     "name": "stdout",
     "output_type": "stream",
     "text": [
      "Logistic Regression Score on car accidents with max_iter = 1000 is : 0.6472096056122678\n",
      "Logistic Regression Score on car accidents with max_iter = 10000 is : 0.645365831721905\n",
      "Logistic Regression Score on car accidents with max_iter = 100000 is : 0.645365831721905\n"
     ]
    }
   ],
   "source": [
    "# performing a loop because I'm not sure that gave me what I want, nor am I sure which time through the\n",
    "# warning is from\n",
    "\n",
    "max_iters = [1000, 10000, 100000]\n",
    "for mi in max_iters:\n",
    "    log = LogisticRegression(max_iter=mi)\n",
    "    log.fit(X_car_c_train, y_car_c_train)\n",
    "    log_score = log.score(X_car_c_test, y_car_c_test)\n",
    "    print('Logistic Regression Score on car accidents with max_iter = {} is : {}'.format(mi, log_score))"
   ]
  },
  {
   "cell_type": "code",
   "execution_count": 9,
   "metadata": {},
   "outputs": [
    {
     "name": "stdout",
     "output_type": "stream",
     "text": [
      "Logistic Regression Score on car accidents with max_iter = 1200 is : 0.645365831721905\n",
      "Logistic Regression Score on car accidents with max_iter = 1500 is : 0.645365831721905\n",
      "Logistic Regression Score on car accidents with max_iter = 2000 is : 0.645365831721905\n",
      "Logistic Regression Score on car accidents with max_iter = 5000 is : 0.645365831721905\n",
      "Logistic Regression Score on car accidents with max_iter = 10000 is : 0.645365831721905\n"
     ]
    }
   ],
   "source": [
    "#Looks like 10000 is enough, now trying some values between 1000 and 10000\n",
    "max_iters = [1200, 1500, 2000, 5000, 10000]\n",
    "for mi in max_iters:\n",
    "    log = LogisticRegression(max_iter=mi)\n",
    "    log.fit(X_car_c_train, y_car_c_train)\n",
    "    log_score = log.score(X_car_c_test, y_car_c_test)\n",
    "    print('Logistic Regression Score on car accidents with max_iter = {} is : {}'.format(mi, log_score))"
   ]
  },
  {
   "cell_type": "markdown",
   "metadata": {},
   "source": [
    "1200 looks like a good number. Let's look at a confusion matrix."
   ]
  },
  {
   "cell_type": "code",
   "execution_count": 13,
   "metadata": {},
   "outputs": [
    {
     "name": "stdout",
     "output_type": "stream",
     "text": [
      "[[9873 2610]\n",
      " [5276 4478]]\n"
     ]
    },
    {
     "data": {
      "image/png": "[encoded data removed]",
      "text/plain": [
       "<Figure size 432x288 with 2 Axes>"
      ]
     },
     "metadata": {
      "needs_background": "light"
     },
     "output_type": "display_data"
    }
   ],
   "source": [
    "pred = log.predict(X_car_c_test)\n",
    "c=confusion_matrix(y_car_c_test, pred)\n",
    "print(c)\n",
    "sns.heatmap(c,cmap='BrBG',annot=True)\n",
    "plt.show()"
   ]
  },
  {
   "cell_type": "code",
   "execution_count": 15,
   "metadata": {},
   "outputs": [
    {
     "name": "stdout",
     "output_type": "stream",
     "text": [
      "              precision    recall  f1-score   support\n",
      "\n",
      "           0       0.65      0.79      0.71     12483\n",
      "           1       0.63      0.46      0.53      9754\n",
      "\n",
      "    accuracy                           0.65     22237\n",
      "   macro avg       0.64      0.63      0.62     22237\n",
      "weighted avg       0.64      0.65      0.63     22237\n",
      "\n"
     ]
    }
   ],
   "source": [
    "print(classification_report(y_car_c_test, pred))"
   ]
  },
  {
   "cell_type": "markdown",
   "metadata": {},
   "source": [
    "Confusion matrix shows basically the same thing which is that 12% are falsely classified as places that would have no car accidents and 24% are falsely classified as places that would have a car accident.\n",
    "\n",
    "Now let's see how logistic regression works on bike accidents?"
   ]
  },
  {
   "cell_type": "code",
   "execution_count": 26,
   "metadata": {},
   "outputs": [
    {
     "name": "stderr",
     "output_type": "stream",
     "text": [
      "C:\\Users\\linne\\Anaconda3\\lib\\site-packages\\sklearn\\linear_model\\_logistic.py:940: ConvergenceWarning: lbfgs failed to converge (status=1):\n",
      "STOP: TOTAL NO. of ITERATIONS REACHED LIMIT.\n",
      "\n",
      "Increase the number of iterations (max_iter) or scale the data as shown in:\n",
      "    https://scikit-learn.org/stable/modules/preprocessing.html\n",
      "Please also refer to the documentation for alternative solver options:\n",
      "    https://scikit-learn.org/stable/modules/linear_model.html#logistic-regression\n",
      "  extra_warning_msg=_LOGISTIC_SOLVER_CONVERGENCE_MSG)\n"
     ]
    },
    {
     "name": "stdout",
     "output_type": "stream",
     "text": [
      "Logistic Regression Score on bike accidents is: 0.47474929172100555\n"
     ]
    }
   ],
   "source": [
    "# How does logistic regression work on bike accidents? \n",
    "\n",
    "log = LogisticRegression(max_iter=1200)\n",
    "log.fit(X_bike_c_train, y_bike_c_train)\n",
    "log_score = log.score(X_bike_c_test, y_bike_c_test)\n",
    "print('Logistic Regression Score on bike accidents is: {}'.format(log_score))"
   ]
  },
  {
   "cell_type": "code",
   "execution_count": 17,
   "metadata": {},
   "outputs": [
    {
     "name": "stdout",
     "output_type": "stream",
     "text": [
      "[[11626  5900]\n",
      " [ 2484  2227]]\n"
     ]
    },
    {
     "data": {
      "image/png": "[encoded data removed]",
      "text/plain": [
       "<Figure size 432x288 with 2 Axes>"
      ]
     },
     "metadata": {
      "needs_background": "light"
     },
     "output_type": "display_data"
    }
   ],
   "source": [
    "pred = log.predict(X_bike_c_test)\n",
    "c=confusion_matrix(y_bike_c_test, pred)\n",
    "print(c)\n",
    "sns.heatmap(c,cmap='BrBG',annot=True)\n",
    "plt.show()"
   ]
  },
  {
   "cell_type": "code",
   "execution_count": 18,
   "metadata": {},
   "outputs": [
    {
     "name": "stdout",
     "output_type": "stream",
     "text": [
      "              precision    recall  f1-score   support\n",
      "\n",
      "           0       0.82      0.66      0.73     17526\n",
      "           1       0.27      0.47      0.35      4711\n",
      "\n",
      "    accuracy                           0.62     22237\n",
      "   macro avg       0.55      0.57      0.54     22237\n",
      "weighted avg       0.71      0.62      0.65     22237\n",
      "\n"
     ]
    }
   ],
   "source": [
    "print(classification_report(y_bike_c_test, pred))"
   ]
  },
  {
   "cell_type": "markdown",
   "metadata": {},
   "source": [
    "Huh, 1200 is still not great, but I'm going to wait to try to make it better until I can find a better model over all. "
   ]
  },
  {
   "cell_type": "markdown",
   "metadata": {},
   "source": [
    "The classification accuracy scores are better than the scores for any of the linear regressions, so classification may be a better task for machine learning. If these turn out to be the highest scores from all possible models, I will come back to them and tune the parameters more. [Go>>](Testing%20Models%20-%20KNN.ipynb)"
   ]
  },
  {
   "cell_type": "code",
   "execution_count": null,
   "metadata": {},
   "outputs": [],
   "source": []
  }
 ],
 "metadata": {
  "kernelspec": {
   "display_name": "Python 3",
   "language": "python",
   "name": "python3"
  },
  "language_info": {
   "codemirror_mode": {
    "name": "ipython",
    "version": 3
   },
   "file_extension": ".py",
   "mimetype": "text/x-python",
   "name": "python",
   "nbconvert_exporter": "python",
   "pygments_lexer": "ipython3",
   "version": "3.7.6"
  }
 },
 "nbformat": 4,
 "nbformat_minor": 4
}
