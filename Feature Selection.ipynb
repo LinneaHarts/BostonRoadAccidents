{
 "cells": [
  {
   "cell_type": "markdown",
   "metadata": {},
   "source": [
    "# Feature Selection and Reduced Feature Models #\n",
    "\n",
    "In this notebook I will reduce the number of features used and re-run some models to see if I can get better, or equal results."
   ]
  },
  {
   "cell_type": "code",
   "execution_count": 1,
   "metadata": {},
   "outputs": [],
   "source": [
    "import pandas as pd\n",
    "import numpy as np\n",
    "import seaborn as sns\n",
    "import graphviz\n",
    "\n",
    "from matplotlib import pyplot as plt\n",
    "\n",
    "from sklearn.model_selection import train_test_split\n",
    "from sklearn.metrics import confusion_matrix, classification_report\n",
    "from sklearn import tree\n",
    "from sklearn import ensemble\n",
    "from sklearn.linear_model import Ridge"
   ]
  },
  {
   "cell_type": "markdown",
   "metadata": {},
   "source": [
    "Read in data set with categorical variables turned into dummy variables"
   ]
  },
  {
   "cell_type": "code",
   "execution_count": 2,
   "metadata": {},
   "outputs": [],
   "source": [
    "df = pd.read_csv('data/cleaned_data/md_dum.csv')\n",
    "\n",
    "# create X and y values for modeling, using a mask to create 1 and 0 values for classification\n",
    "car_y = df.car_acc_score\n",
    "car_c_y = df.car_acc_score.mask(df.car_acc_score > 0, 1)\n",
    "car_X = df.drop(columns=['Unnamed: 0', 'car_acc_score', 'car_dens_score', 'bike_dens_score'])\n",
    "bike_y = df.bike_acc_score\n",
    "bike_c_y = df.bike_acc_score.mask(df.bike_acc_score > 0, 1)\n",
    "bike_X = df.drop(columns=['Unnamed: 0', 'bike_acc_score', 'car_dens_score', 'bike_dens_score'])"
   ]
  },
  {
   "cell_type": "markdown",
   "metadata": {},
   "source": [
    "Do train test split on classification"
   ]
  },
  {
   "cell_type": "code",
   "execution_count": 3,
   "metadata": {},
   "outputs": [],
   "source": [
    "# train test split\n",
    "X_car_c_train, X_car_c_test, y_car_c_train, y_car_c_test = train_test_split(car_X, car_c_y, test_size=0.3, \n",
    "                                                                            random_state=18,\n",
    "                                                                            shuffle=True, stratify=car_c_y)\n",
    "X_bike_c_train, X_bike_c_test, y_bike_c_train, y_bike_c_test = train_test_split(bike_X, bike_c_y, test_size=0.3, \n",
    "                                                                            random_state=18,\n",
    "                                                                            shuffle=True, stratify=bike_c_y)"
   ]
  },
  {
   "cell_type": "markdown",
   "metadata": {},
   "source": [
    "Perform decision tree classifier on car data"
   ]
  },
  {
   "cell_type": "code",
   "execution_count": 4,
   "metadata": {},
   "outputs": [
    {
     "data": {
      "text/plain": [
       "0.887304942213428"
      ]
     },
     "execution_count": 4,
     "metadata": {},
     "output_type": "execute_result"
    }
   ],
   "source": [
    "dtc = tree.DecisionTreeClassifier()\n",
    "dtc.fit(X_car_c_train, y_car_c_train)\n",
    "dtc.score(X_car_c_test, y_car_c_test)"
   ]
  },
  {
   "cell_type": "markdown",
   "metadata": {},
   "source": [
    "Show the top 20 features for car classifying."
   ]
  },
  {
   "cell_type": "code",
   "execution_count": 5,
   "metadata": {},
   "outputs": [
    {
     "data": {
      "text/html": [
       "<div>\n",
       "<style scoped>\n",
       "    .dataframe tbody tr th:only-of-type {\n",
       "        vertical-align: middle;\n",
       "    }\n",
       "\n",
       "    .dataframe tbody tr th {\n",
       "        vertical-align: top;\n",
       "    }\n",
       "\n",
       "    .dataframe thead th {\n",
       "        text-align: right;\n",
       "    }\n",
       "</style>\n",
       "<table border=\"1\" class=\"dataframe\">\n",
       "  <thead>\n",
       "    <tr style=\"text-align: right;\">\n",
       "      <th></th>\n",
       "      <th>score</th>\n",
       "    </tr>\n",
       "    <tr>\n",
       "      <th>feature_names</th>\n",
       "      <th></th>\n",
       "    </tr>\n",
       "  </thead>\n",
       "  <tbody>\n",
       "    <tr>\n",
       "      <th>Jurisdictn_2</th>\n",
       "      <td>0.001885</td>\n",
       "    </tr>\n",
       "    <tr>\n",
       "      <th>Terrain_2</th>\n",
       "      <td>0.001934</td>\n",
       "    </tr>\n",
       "    <tr>\n",
       "      <th>Route_Direction_NB</th>\n",
       "      <td>0.002514</td>\n",
       "    </tr>\n",
       "    <tr>\n",
       "      <th>Route_System_L</th>\n",
       "      <td>0.002561</td>\n",
       "    </tr>\n",
       "    <tr>\n",
       "      <th>City_Maint_35</th>\n",
       "      <td>0.002566</td>\n",
       "    </tr>\n",
       "    <tr>\n",
       "      <th>Op_Dir_SL</th>\n",
       "      <td>0.002725</td>\n",
       "    </tr>\n",
       "    <tr>\n",
       "      <th>Terrain_1</th>\n",
       "      <td>0.002801</td>\n",
       "    </tr>\n",
       "    <tr>\n",
       "      <th>Struct_Cnd_2</th>\n",
       "      <td>0.002881</td>\n",
       "    </tr>\n",
       "    <tr>\n",
       "      <th>Struct_Cnd_1</th>\n",
       "      <td>0.002933</td>\n",
       "    </tr>\n",
       "    <tr>\n",
       "      <th>Med_Width</th>\n",
       "      <td>0.003182</td>\n",
       "    </tr>\n",
       "    <tr>\n",
       "      <th>Route_Direction_EB</th>\n",
       "      <td>0.003307</td>\n",
       "    </tr>\n",
       "    <tr>\n",
       "      <th>Route_System_M</th>\n",
       "      <td>0.004830</td>\n",
       "    </tr>\n",
       "    <tr>\n",
       "      <th>Lt_Sidewlk</th>\n",
       "      <td>0.008334</td>\n",
       "    </tr>\n",
       "    <tr>\n",
       "      <th>Rt_Sidewlk</th>\n",
       "      <td>0.008726</td>\n",
       "    </tr>\n",
       "    <tr>\n",
       "      <th>Surface_Tp_0</th>\n",
       "      <td>0.012619</td>\n",
       "    </tr>\n",
       "    <tr>\n",
       "      <th>Surface_Wd</th>\n",
       "      <td>0.014986</td>\n",
       "    </tr>\n",
       "    <tr>\n",
       "      <th>ROW_Width</th>\n",
       "      <td>0.019227</td>\n",
       "    </tr>\n",
       "    <tr>\n",
       "      <th>AADT</th>\n",
       "      <td>0.109874</td>\n",
       "    </tr>\n",
       "    <tr>\n",
       "      <th>bike_acc_score</th>\n",
       "      <td>0.147953</td>\n",
       "    </tr>\n",
       "    <tr>\n",
       "      <th>traffic_density</th>\n",
       "      <td>0.595060</td>\n",
       "    </tr>\n",
       "  </tbody>\n",
       "</table>\n",
       "</div>"
      ],
      "text/plain": [
       "                       score\n",
       "feature_names               \n",
       "Jurisdictn_2        0.001885\n",
       "Terrain_2           0.001934\n",
       "Route_Direction_NB  0.002514\n",
       "Route_System_L      0.002561\n",
       "City_Maint_35       0.002566\n",
       "Op_Dir_SL           0.002725\n",
       "Terrain_1           0.002801\n",
       "Struct_Cnd_2        0.002881\n",
       "Struct_Cnd_1        0.002933\n",
       "Med_Width           0.003182\n",
       "Route_Direction_EB  0.003307\n",
       "Route_System_M      0.004830\n",
       "Lt_Sidewlk          0.008334\n",
       "Rt_Sidewlk          0.008726\n",
       "Surface_Tp_0        0.012619\n",
       "Surface_Wd          0.014986\n",
       "ROW_Width           0.019227\n",
       "AADT                0.109874\n",
       "bike_acc_score      0.147953\n",
       "traffic_density     0.595060"
      ]
     },
     "execution_count": 5,
     "metadata": {},
     "output_type": "execute_result"
    }
   ],
   "source": [
    "car_feature_importances = dtc.feature_importances_\n",
    "car_feature_names, car_feature_scores = zip(*sorted(zip(X_car_c_train.columns, car_feature_importances), \n",
    "                                                          key=lambda x: -x[1]))\n",
    "car_features = pd.DataFrame({'feature_names' : car_feature_names, 'score' : car_feature_scores}).set_index('feature_names').sort_values(by='score')\n",
    "car_features.tail(20)"
   ]
  },
  {
   "cell_type": "code",
   "execution_count": 6,
   "metadata": {},
   "outputs": [
    {
     "data": {
      "image/png": "[encoded data removed]",
      "text/plain": [
       "<Figure size 432x288 with 1 Axes>"
      ]
     },
     "metadata": {
      "needs_background": "light"
     },
     "output_type": "display_data"
    }
   ],
   "source": [
    "y_position = list(range(len(car_feature_names[:20])))\n",
    "plt.barh(y_position, car_feature_scores[:20], height=0.6, align='center')\n",
    "plt.yticks(y_position , car_feature_names[:20])\n",
    "plt.xlabel('Relative Importance Score')\n",
    "plt.ylabel('Feature')\n",
    "t = plt.title('Feature Importances for Decision Tree')"
   ]
  },
  {
   "cell_type": "markdown",
   "metadata": {},
   "source": [
    "These contain several categorical dummy columns, so I'm going to create a new dataframe with dummy variables for the categorical data that is most important."
   ]
  },
  {
   "cell_type": "code",
   "execution_count": 32,
   "metadata": {},
   "outputs": [
    {
     "data": {
      "text/html": [
       "<div>\n",
       "<style scoped>\n",
       "    .dataframe tbody tr th:only-of-type {\n",
       "        vertical-align: middle;\n",
       "    }\n",
       "\n",
       "    .dataframe tbody tr th {\n",
       "        vertical-align: top;\n",
       "    }\n",
       "\n",
       "    .dataframe thead th {\n",
       "        text-align: right;\n",
       "    }\n",
       "</style>\n",
       "<table border=\"1\" class=\"dataframe\">\n",
       "  <thead>\n",
       "    <tr style=\"text-align: right;\">\n",
       "      <th></th>\n",
       "      <th>car_acc_score</th>\n",
       "      <th>bike_acc_score</th>\n",
       "      <th>traffic_density</th>\n",
       "      <th>bike_acc_score</th>\n",
       "      <th>AADT</th>\n",
       "      <th>ROW_Width</th>\n",
       "      <th>Surface_Wd</th>\n",
       "      <th>Surface_Tp</th>\n",
       "      <th>Rt_Sidewlk</th>\n",
       "      <th>Lt_Sidewlk</th>\n",
       "      <th>...</th>\n",
       "      <th>City_Maint_274</th>\n",
       "      <th>City_Maint_314</th>\n",
       "      <th>Jurisdictn_0</th>\n",
       "      <th>Jurisdictn_1</th>\n",
       "      <th>Jurisdictn_2</th>\n",
       "      <th>Jurisdictn_3</th>\n",
       "      <th>Jurisdictn_5</th>\n",
       "      <th>Jurisdictn_B</th>\n",
       "      <th>Jurisdictn_E</th>\n",
       "      <th>Jurisdictn_H</th>\n",
       "    </tr>\n",
       "  </thead>\n",
       "  <tbody>\n",
       "    <tr>\n",
       "      <th>0</th>\n",
       "      <td>1</td>\n",
       "      <td>10</td>\n",
       "      <td>1.707255</td>\n",
       "      <td>10</td>\n",
       "      <td>1154.0</td>\n",
       "      <td>50.0</td>\n",
       "      <td>28.0</td>\n",
       "      <td>5</td>\n",
       "      <td>4.0</td>\n",
       "      <td>4.0</td>\n",
       "      <td>...</td>\n",
       "      <td>0</td>\n",
       "      <td>0</td>\n",
       "      <td>0</td>\n",
       "      <td>0</td>\n",
       "      <td>1</td>\n",
       "      <td>0</td>\n",
       "      <td>0</td>\n",
       "      <td>0</td>\n",
       "      <td>0</td>\n",
       "      <td>0</td>\n",
       "    </tr>\n",
       "    <tr>\n",
       "      <th>1</th>\n",
       "      <td>0</td>\n",
       "      <td>4</td>\n",
       "      <td>0.186701</td>\n",
       "      <td>4</td>\n",
       "      <td>1154.0</td>\n",
       "      <td>50.0</td>\n",
       "      <td>28.0</td>\n",
       "      <td>5</td>\n",
       "      <td>4.0</td>\n",
       "      <td>4.0</td>\n",
       "      <td>...</td>\n",
       "      <td>0</td>\n",
       "      <td>0</td>\n",
       "      <td>0</td>\n",
       "      <td>0</td>\n",
       "      <td>1</td>\n",
       "      <td>0</td>\n",
       "      <td>0</td>\n",
       "      <td>0</td>\n",
       "      <td>0</td>\n",
       "      <td>0</td>\n",
       "    </tr>\n",
       "    <tr>\n",
       "      <th>2</th>\n",
       "      <td>0</td>\n",
       "      <td>1</td>\n",
       "      <td>0.345786</td>\n",
       "      <td>1</td>\n",
       "      <td>1154.0</td>\n",
       "      <td>50.0</td>\n",
       "      <td>28.0</td>\n",
       "      <td>5</td>\n",
       "      <td>4.0</td>\n",
       "      <td>4.0</td>\n",
       "      <td>...</td>\n",
       "      <td>0</td>\n",
       "      <td>0</td>\n",
       "      <td>0</td>\n",
       "      <td>0</td>\n",
       "      <td>1</td>\n",
       "      <td>0</td>\n",
       "      <td>0</td>\n",
       "      <td>0</td>\n",
       "      <td>0</td>\n",
       "      <td>0</td>\n",
       "    </tr>\n",
       "    <tr>\n",
       "      <th>3</th>\n",
       "      <td>1</td>\n",
       "      <td>10</td>\n",
       "      <td>0.470252</td>\n",
       "      <td>10</td>\n",
       "      <td>3598.0</td>\n",
       "      <td>55.0</td>\n",
       "      <td>30.0</td>\n",
       "      <td>7</td>\n",
       "      <td>5.0</td>\n",
       "      <td>5.0</td>\n",
       "      <td>...</td>\n",
       "      <td>0</td>\n",
       "      <td>0</td>\n",
       "      <td>0</td>\n",
       "      <td>0</td>\n",
       "      <td>1</td>\n",
       "      <td>0</td>\n",
       "      <td>0</td>\n",
       "      <td>0</td>\n",
       "      <td>0</td>\n",
       "      <td>0</td>\n",
       "    </tr>\n",
       "    <tr>\n",
       "      <th>4</th>\n",
       "      <td>0</td>\n",
       "      <td>1</td>\n",
       "      <td>2.013781</td>\n",
       "      <td>1</td>\n",
       "      <td>3598.0</td>\n",
       "      <td>55.0</td>\n",
       "      <td>30.0</td>\n",
       "      <td>7</td>\n",
       "      <td>5.0</td>\n",
       "      <td>5.0</td>\n",
       "      <td>...</td>\n",
       "      <td>0</td>\n",
       "      <td>0</td>\n",
       "      <td>0</td>\n",
       "      <td>0</td>\n",
       "      <td>1</td>\n",
       "      <td>0</td>\n",
       "      <td>0</td>\n",
       "      <td>0</td>\n",
       "      <td>0</td>\n",
       "      <td>0</td>\n",
       "    </tr>\n",
       "  </tbody>\n",
       "</table>\n",
       "<p>5 rows × 78 columns</p>\n",
       "</div>"
      ],
      "text/plain": [
       "   car_acc_score  bike_acc_score  traffic_density  bike_acc_score    AADT  \\\n",
       "0              1              10         1.707255              10  1154.0   \n",
       "1              0               4         0.186701               4  1154.0   \n",
       "2              0               1         0.345786               1  1154.0   \n",
       "3              1              10         0.470252              10  3598.0   \n",
       "4              0               1         2.013781               1  3598.0   \n",
       "\n",
       "   ROW_Width  Surface_Wd  Surface_Tp  Rt_Sidewlk  Lt_Sidewlk  ...  \\\n",
       "0       50.0        28.0           5         4.0         4.0  ...   \n",
       "1       50.0        28.0           5         4.0         4.0  ...   \n",
       "2       50.0        28.0           5         4.0         4.0  ...   \n",
       "3       55.0        30.0           7         5.0         5.0  ...   \n",
       "4       55.0        30.0           7         5.0         5.0  ...   \n",
       "\n",
       "   City_Maint_274  City_Maint_314  Jurisdictn_0  Jurisdictn_1  Jurisdictn_2  \\\n",
       "0               0               0             0             0             1   \n",
       "1               0               0             0             0             1   \n",
       "2               0               0             0             0             1   \n",
       "3               0               0             0             0             1   \n",
       "4               0               0             0             0             1   \n",
       "\n",
       "   Jurisdictn_3  Jurisdictn_5  Jurisdictn_B  Jurisdictn_E  Jurisdictn_H  \n",
       "0             0             0             0             0             0  \n",
       "1             0             0             0             0             0  \n",
       "2             0             0             0             0             0  \n",
       "3             0             0             0             0             0  \n",
       "4             0             0             0             0             0  \n",
       "\n",
       "[5 rows x 78 columns]"
      ]
     },
     "execution_count": 32,
     "metadata": {},
     "output_type": "execute_result"
    }
   ],
   "source": [
    "#build smaller feature set\n",
    "#read in data set before making dummies\n",
    "sel_df = pd.read_csv('data/cleaned_data/model_df.csv')\n",
    "sel_df = sel_df[['car_acc_score', 'traffic_density', 'bike_acc_score', 'AADT', 'ROW_Width', 'Surface_Wd', 'Surface_Tp', \n",
    "                'Rt_Sidewlk', 'Lt_Sidewlk', 'Route_System', 'Route_Direction', 'Struct_Cnd', 'Terrain',\n",
    "                'Route_System', 'Med_Width', 'City_Maint', 'Jurisdictn', 'Op_Dir_SL']]\n",
    "sel_dum = pd.get_dummies(sel_df, columns=['Route_System', 'Route_Direction', 'Struct_Cnd', 'Terrain',\n",
    "                'Route_System', 'City_Maint', 'Jurisdictn'])\n",
    "sel_dum.head()"
   ]
  },
  {
   "cell_type": "markdown",
   "metadata": {},
   "source": [
    "Now lets see if my best regressor runs any better on this reduced set"
   ]
  },
  {
   "cell_type": "code",
   "execution_count": 34,
   "metadata": {},
   "outputs": [],
   "source": [
    "car_y = sel_dum.car_acc_score\n",
    "car_X = sel_dum.drop(columns=['car_acc_score'])\n",
    "# do train test split\n",
    "X_car_train, X_car_test, y_car_train, y_car_test = train_test_split(car_X, car_y, test_size=0.3, random_state=18,\n",
    "                                                                   shuffle=True, stratify=car_y)"
   ]
  },
  {
   "cell_type": "code",
   "execution_count": 35,
   "metadata": {},
   "outputs": [
    {
     "name": "stdout",
     "output_type": "stream",
     "text": [
      "Random Forest Regression Score on car accidents: 0.15048841207650787\n"
     ]
    }
   ],
   "source": [
    "rfr = ensemble.RandomForestRegressor()\n",
    "rfr.fit(X_car_train, y_car_train)\n",
    "car_score = rfr.score(X_car_test, y_car_test)\n",
    "print('Random Forest Regression Score on car accidents: {}'.format(car_score))"
   ]
  },
  {
   "cell_type": "markdown",
   "metadata": {},
   "source": [
    "That is definitely better than before, 0.1, but not wildly better. Let's try our best linear regressor."
   ]
  },
  {
   "cell_type": "code",
   "execution_count": 37,
   "metadata": {},
   "outputs": [
    {
     "name": "stdout",
     "output_type": "stream",
     "text": [
      "Ridge Regression Score on car accidents is: 0.05766207965891612\n"
     ]
    }
   ],
   "source": [
    "ri = Ridge()\n",
    "ri.fit(X_car_train, y_car_train)\n",
    "ri_score = ri.score(X_car_test, y_car_test)\n",
    "print('Ridge Regression Score on car accidents is: {}'.format(ri_score))"
   ]
  },
  {
   "cell_type": "markdown",
   "metadata": {},
   "source": [
    "Not much better. Okay, classification still seems like the better bet."
   ]
  },
  {
   "cell_type": "code",
   "execution_count": 49,
   "metadata": {},
   "outputs": [],
   "source": [
    "car_c_y = sel_dum.car_acc_score.mask(sel_dum.car_acc_score > 0, 1)\n",
    "\n",
    "# do train test split\n",
    "X_car_c_train, X_car_c_test, y_car_c_train, y_car_c_test = train_test_split(car_X, car_c_y, test_size=0.3, \n",
    "                                                                            random_state=18,\n",
    "                                                                            shuffle=True, stratify=car_c_y)"
   ]
  },
  {
   "cell_type": "code",
   "execution_count": 50,
   "metadata": {},
   "outputs": [
    {
     "data": {
      "text/plain": [
       "0.8879345235418447"
      ]
     },
     "execution_count": 50,
     "metadata": {},
     "output_type": "execute_result"
    }
   ],
   "source": [
    "dtc = tree.DecisionTreeClassifier()\n",
    "dtc.fit(X_car_c_train, y_car_c_train)\n",
    "dtc.score(X_car_c_test, y_car_c_test)"
   ]
  },
  {
   "cell_type": "code",
   "execution_count": 51,
   "metadata": {},
   "outputs": [
    {
     "name": "stdout",
     "output_type": "stream",
     "text": [
      "Random Forest Classifier accuracy score is 0.8927912937896298\n"
     ]
    }
   ],
   "source": [
    "rfc = ensemble.RandomForestClassifier()\n",
    "rfc.fit(X_car_c_train, y_car_c_train)\n",
    "score = rfc.score(X_car_c_test, y_car_c_test)\n",
    "print('Random Forest Classifier accuracy score is {}'.format(score))"
   ]
  },
  {
   "cell_type": "code",
   "execution_count": 52,
   "metadata": {},
   "outputs": [
    {
     "name": "stdout",
     "output_type": "stream",
     "text": [
      "Bagging Classifier accuracy score is 0.8930161442640644\n"
     ]
    }
   ],
   "source": [
    "bc = ensemble.BaggingClassifier()\n",
    "bc.fit(X_car_c_train, y_car_c_train)\n",
    "score = bc.score(X_car_c_test, y_car_c_test)\n",
    "print('Bagging Classifier accuracy score is {}'.format(score))"
   ]
  },
  {
   "cell_type": "code",
   "execution_count": 42,
   "metadata": {},
   "outputs": [
    {
     "name": "stdout",
     "output_type": "stream",
     "text": [
      "Gradient Boosting Score: 0.8833026037684939\n",
      "[[11382  1101]\n",
      " [ 1494  8260]]\n"
     ]
    },
    {
     "data": {
      "image/png": "[encoded data removed]",
      "text/plain": [
       "<Figure size 432x288 with 2 Axes>"
      ]
     },
     "metadata": {
      "needs_background": "light"
     },
     "output_type": "display_data"
    }
   ],
   "source": [
    "gbc = ensemble.GradientBoostingClassifier()\n",
    "gbc.fit(X_car_c_train, y_car_c_train)\n",
    "print('Gradient Boosting Score: {}'.format(gbc.score(X_car_c_test, y_car_c_test)))\n",
    "pred = gbc.predict(X_car_c_test)\n",
    "c=confusion_matrix(y_car_c_test, pred)\n",
    "print(c)\n",
    "sns.heatmap(c,cmap='BrBG',annot=True)\n",
    "plt.show()"
   ]
  },
  {
   "cell_type": "markdown",
   "metadata": {},
   "source": [
    "The important features for predicting bike accidents will certainly be different than for cars, so I will create a new reduced feature data frame."
   ]
  },
  {
   "cell_type": "code",
   "execution_count": 7,
   "metadata": {},
   "outputs": [
    {
     "data": {
      "text/plain": [
       "0.9025947744749742"
      ]
     },
     "execution_count": 7,
     "metadata": {},
     "output_type": "execute_result"
    }
   ],
   "source": [
    "dtc = tree.DecisionTreeClassifier()\n",
    "dtc.fit(X_bike_c_train, y_bike_c_train)\n",
    "dtc.score(X_bike_c_test, y_bike_c_test)"
   ]
  },
  {
   "cell_type": "code",
   "execution_count": 8,
   "metadata": {},
   "outputs": [
    {
     "data": {
      "text/html": [
       "<div>\n",
       "<style scoped>\n",
       "    .dataframe tbody tr th:only-of-type {\n",
       "        vertical-align: middle;\n",
       "    }\n",
       "\n",
       "    .dataframe tbody tr th {\n",
       "        vertical-align: top;\n",
       "    }\n",
       "\n",
       "    .dataframe thead th {\n",
       "        text-align: right;\n",
       "    }\n",
       "</style>\n",
       "<table border=\"1\" class=\"dataframe\">\n",
       "  <thead>\n",
       "    <tr style=\"text-align: right;\">\n",
       "      <th></th>\n",
       "      <th>score</th>\n",
       "    </tr>\n",
       "    <tr>\n",
       "      <th>feature_names</th>\n",
       "      <th></th>\n",
       "    </tr>\n",
       "  </thead>\n",
       "  <tbody>\n",
       "    <tr>\n",
       "      <th>F_Class_3</th>\n",
       "      <td>0.003079</td>\n",
       "    </tr>\n",
       "    <tr>\n",
       "      <th>Struct_Cnd_1</th>\n",
       "      <td>0.003356</td>\n",
       "    </tr>\n",
       "    <tr>\n",
       "      <th>Route_Direction_NB</th>\n",
       "      <td>0.003434</td>\n",
       "    </tr>\n",
       "    <tr>\n",
       "      <th>Operation_1</th>\n",
       "      <td>0.003523</td>\n",
       "    </tr>\n",
       "    <tr>\n",
       "      <th>Operation_-1</th>\n",
       "      <td>0.003628</td>\n",
       "    </tr>\n",
       "    <tr>\n",
       "      <th>Terrain_1</th>\n",
       "      <td>0.003792</td>\n",
       "    </tr>\n",
       "    <tr>\n",
       "      <th>Operation_2</th>\n",
       "      <td>0.004376</td>\n",
       "    </tr>\n",
       "    <tr>\n",
       "      <th>Op_Dir_SL</th>\n",
       "      <td>0.005211</td>\n",
       "    </tr>\n",
       "    <tr>\n",
       "      <th>Med_Width</th>\n",
       "      <td>0.005771</td>\n",
       "    </tr>\n",
       "    <tr>\n",
       "      <th>Struct_Cnd_2</th>\n",
       "      <td>0.006183</td>\n",
       "    </tr>\n",
       "    <tr>\n",
       "      <th>Route_Direction_EB</th>\n",
       "      <td>0.007170</td>\n",
       "    </tr>\n",
       "    <tr>\n",
       "      <th>Lt_Sidewlk</th>\n",
       "      <td>0.012498</td>\n",
       "    </tr>\n",
       "    <tr>\n",
       "      <th>Rt_Sidewlk</th>\n",
       "      <td>0.019038</td>\n",
       "    </tr>\n",
       "    <tr>\n",
       "      <th>Jurisdictn_2</th>\n",
       "      <td>0.022979</td>\n",
       "    </tr>\n",
       "    <tr>\n",
       "      <th>Surface_Wd</th>\n",
       "      <td>0.027484</td>\n",
       "    </tr>\n",
       "    <tr>\n",
       "      <th>ROW_Width</th>\n",
       "      <td>0.032520</td>\n",
       "    </tr>\n",
       "    <tr>\n",
       "      <th>City_35</th>\n",
       "      <td>0.032774</td>\n",
       "    </tr>\n",
       "    <tr>\n",
       "      <th>AADT</th>\n",
       "      <td>0.033207</td>\n",
       "    </tr>\n",
       "    <tr>\n",
       "      <th>car_acc_score</th>\n",
       "      <td>0.333697</td>\n",
       "    </tr>\n",
       "    <tr>\n",
       "      <th>traffic_density</th>\n",
       "      <td>0.353560</td>\n",
       "    </tr>\n",
       "  </tbody>\n",
       "</table>\n",
       "</div>"
      ],
      "text/plain": [
       "                       score\n",
       "feature_names               \n",
       "F_Class_3           0.003079\n",
       "Struct_Cnd_1        0.003356\n",
       "Route_Direction_NB  0.003434\n",
       "Operation_1         0.003523\n",
       "Operation_-1        0.003628\n",
       "Terrain_1           0.003792\n",
       "Operation_2         0.004376\n",
       "Op_Dir_SL           0.005211\n",
       "Med_Width           0.005771\n",
       "Struct_Cnd_2        0.006183\n",
       "Route_Direction_EB  0.007170\n",
       "Lt_Sidewlk          0.012498\n",
       "Rt_Sidewlk          0.019038\n",
       "Jurisdictn_2        0.022979\n",
       "Surface_Wd          0.027484\n",
       "ROW_Width           0.032520\n",
       "City_35             0.032774\n",
       "AADT                0.033207\n",
       "car_acc_score       0.333697\n",
       "traffic_density     0.353560"
      ]
     },
     "execution_count": 8,
     "metadata": {},
     "output_type": "execute_result"
    }
   ],
   "source": [
    "# show the top 20 features for bike classifying\n",
    "bike_feature_importances = dtc.feature_importances_\n",
    "bike_feature_names, bike_feature_scores = zip(*sorted(zip(X_bike_c_train.columns, bike_feature_importances), \n",
    "                                                          key=lambda x: -x[1]))\n",
    "bike_features = pd.DataFrame({'feature_names' : bike_feature_names, 'score' : bike_feature_scores}).set_index('feature_names').sort_values(by='score')\n",
    "bike_features.tail(20)"
   ]
  },
  {
   "cell_type": "code",
   "execution_count": 10,
   "metadata": {},
   "outputs": [
    {
     "data": {
      "image/png": "[encoded data removed]",
      "text/plain": [
       "<Figure size 432x288 with 1 Axes>"
      ]
     },
     "metadata": {
      "needs_background": "light"
     },
     "output_type": "display_data"
    }
   ],
   "source": [
    "y_position = list(range(len(bike_feature_names[:20])))\n",
    "plt.barh(y_position, bike_feature_scores[:20], height=0.6, align='center')\n",
    "plt.yticks(y_position , bike_feature_names[:20])\n",
    "plt.xlabel('Relative Importance Score')\n",
    "plt.ylabel('Feature')\n",
    "t = plt.title('Feature Importances for Decision Tree')"
   ]
  },
  {
   "cell_type": "markdown",
   "metadata": {},
   "source": [
    "Build the smaller feature set for predicting bike accidents."
   ]
  },
  {
   "cell_type": "code",
   "execution_count": 11,
   "metadata": {},
   "outputs": [
    {
     "data": {
      "text/html": [
       "<div>\n",
       "<style scoped>\n",
       "    .dataframe tbody tr th:only-of-type {\n",
       "        vertical-align: middle;\n",
       "    }\n",
       "\n",
       "    .dataframe tbody tr th {\n",
       "        vertical-align: top;\n",
       "    }\n",
       "\n",
       "    .dataframe thead th {\n",
       "        text-align: right;\n",
       "    }\n",
       "</style>\n",
       "<table border=\"1\" class=\"dataframe\">\n",
       "  <thead>\n",
       "    <tr style=\"text-align: right;\">\n",
       "      <th></th>\n",
       "      <th>car_acc_score</th>\n",
       "      <th>bike_acc_score</th>\n",
       "      <th>AADT</th>\n",
       "      <th>ROW_Width</th>\n",
       "      <th>Surface_Wd</th>\n",
       "      <th>Rt_Sidewlk</th>\n",
       "      <th>Lt_Sidewlk</th>\n",
       "      <th>Med_Width</th>\n",
       "      <th>Op_Dir_SL</th>\n",
       "      <th>City_-1</th>\n",
       "      <th>...</th>\n",
       "      <th>Terrain_1</th>\n",
       "      <th>Terrain_2</th>\n",
       "      <th>Terrain_3</th>\n",
       "      <th>F_Class_-1</th>\n",
       "      <th>F_Class_0</th>\n",
       "      <th>F_Class_1</th>\n",
       "      <th>F_Class_2</th>\n",
       "      <th>F_Class_3</th>\n",
       "      <th>F_Class_5</th>\n",
       "      <th>F_Class_6</th>\n",
       "    </tr>\n",
       "  </thead>\n",
       "  <tbody>\n",
       "    <tr>\n",
       "      <th>0</th>\n",
       "      <td>1</td>\n",
       "      <td>10</td>\n",
       "      <td>1154.0</td>\n",
       "      <td>50.0</td>\n",
       "      <td>28.0</td>\n",
       "      <td>4.0</td>\n",
       "      <td>4.0</td>\n",
       "      <td>0.0</td>\n",
       "      <td>30</td>\n",
       "      <td>0</td>\n",
       "      <td>...</td>\n",
       "      <td>1</td>\n",
       "      <td>0</td>\n",
       "      <td>0</td>\n",
       "      <td>0</td>\n",
       "      <td>1</td>\n",
       "      <td>0</td>\n",
       "      <td>0</td>\n",
       "      <td>0</td>\n",
       "      <td>0</td>\n",
       "      <td>0</td>\n",
       "    </tr>\n",
       "    <tr>\n",
       "      <th>1</th>\n",
       "      <td>0</td>\n",
       "      <td>4</td>\n",
       "      <td>1154.0</td>\n",
       "      <td>50.0</td>\n",
       "      <td>28.0</td>\n",
       "      <td>4.0</td>\n",
       "      <td>4.0</td>\n",
       "      <td>0.0</td>\n",
       "      <td>30</td>\n",
       "      <td>0</td>\n",
       "      <td>...</td>\n",
       "      <td>1</td>\n",
       "      <td>0</td>\n",
       "      <td>0</td>\n",
       "      <td>0</td>\n",
       "      <td>1</td>\n",
       "      <td>0</td>\n",
       "      <td>0</td>\n",
       "      <td>0</td>\n",
       "      <td>0</td>\n",
       "      <td>0</td>\n",
       "    </tr>\n",
       "    <tr>\n",
       "      <th>2</th>\n",
       "      <td>0</td>\n",
       "      <td>1</td>\n",
       "      <td>1154.0</td>\n",
       "      <td>50.0</td>\n",
       "      <td>28.0</td>\n",
       "      <td>4.0</td>\n",
       "      <td>4.0</td>\n",
       "      <td>0.0</td>\n",
       "      <td>30</td>\n",
       "      <td>0</td>\n",
       "      <td>...</td>\n",
       "      <td>1</td>\n",
       "      <td>0</td>\n",
       "      <td>0</td>\n",
       "      <td>0</td>\n",
       "      <td>1</td>\n",
       "      <td>0</td>\n",
       "      <td>0</td>\n",
       "      <td>0</td>\n",
       "      <td>0</td>\n",
       "      <td>0</td>\n",
       "    </tr>\n",
       "    <tr>\n",
       "      <th>3</th>\n",
       "      <td>1</td>\n",
       "      <td>10</td>\n",
       "      <td>3598.0</td>\n",
       "      <td>55.0</td>\n",
       "      <td>30.0</td>\n",
       "      <td>5.0</td>\n",
       "      <td>5.0</td>\n",
       "      <td>0.0</td>\n",
       "      <td>99</td>\n",
       "      <td>0</td>\n",
       "      <td>...</td>\n",
       "      <td>1</td>\n",
       "      <td>0</td>\n",
       "      <td>0</td>\n",
       "      <td>0</td>\n",
       "      <td>0</td>\n",
       "      <td>0</td>\n",
       "      <td>0</td>\n",
       "      <td>0</td>\n",
       "      <td>0</td>\n",
       "      <td>1</td>\n",
       "    </tr>\n",
       "    <tr>\n",
       "      <th>4</th>\n",
       "      <td>0</td>\n",
       "      <td>1</td>\n",
       "      <td>3598.0</td>\n",
       "      <td>55.0</td>\n",
       "      <td>30.0</td>\n",
       "      <td>5.0</td>\n",
       "      <td>5.0</td>\n",
       "      <td>0.0</td>\n",
       "      <td>99</td>\n",
       "      <td>0</td>\n",
       "      <td>...</td>\n",
       "      <td>1</td>\n",
       "      <td>0</td>\n",
       "      <td>0</td>\n",
       "      <td>0</td>\n",
       "      <td>0</td>\n",
       "      <td>0</td>\n",
       "      <td>0</td>\n",
       "      <td>0</td>\n",
       "      <td>0</td>\n",
       "      <td>1</td>\n",
       "    </tr>\n",
       "  </tbody>\n",
       "</table>\n",
       "<p>5 rows × 54 columns</p>\n",
       "</div>"
      ],
      "text/plain": [
       "   car_acc_score  bike_acc_score    AADT  ROW_Width  Surface_Wd  Rt_Sidewlk  \\\n",
       "0              1              10  1154.0       50.0        28.0         4.0   \n",
       "1              0               4  1154.0       50.0        28.0         4.0   \n",
       "2              0               1  1154.0       50.0        28.0         4.0   \n",
       "3              1              10  3598.0       55.0        30.0         5.0   \n",
       "4              0               1  3598.0       55.0        30.0         5.0   \n",
       "\n",
       "   Lt_Sidewlk  Med_Width  Op_Dir_SL  City_-1  ...  Terrain_1  Terrain_2  \\\n",
       "0         4.0        0.0         30        0  ...          1          0   \n",
       "1         4.0        0.0         30        0  ...          1          0   \n",
       "2         4.0        0.0         30        0  ...          1          0   \n",
       "3         5.0        0.0         99        0  ...          1          0   \n",
       "4         5.0        0.0         99        0  ...          1          0   \n",
       "\n",
       "   Terrain_3  F_Class_-1  F_Class_0  F_Class_1  F_Class_2  F_Class_3  \\\n",
       "0          0           0          1          0          0          0   \n",
       "1          0           0          1          0          0          0   \n",
       "2          0           0          1          0          0          0   \n",
       "3          0           0          0          0          0          0   \n",
       "4          0           0          0          0          0          0   \n",
       "\n",
       "   F_Class_5  F_Class_6  \n",
       "0          0          0  \n",
       "1          0          0  \n",
       "2          0          0  \n",
       "3          0          1  \n",
       "4          0          1  \n",
       "\n",
       "[5 rows x 54 columns]"
      ]
     },
     "execution_count": 11,
     "metadata": {},
     "output_type": "execute_result"
    }
   ],
   "source": [
    "#build smaller feature set\n",
    "#read in data set before making dummies\n",
    "bike_df = pd.read_csv('data/cleaned_data/model_df.csv')\n",
    "bike_df = bike_df[['car_acc_score', 'bike_acc_score', 'AADT', 'City', 'ROW_Width', 'Surface_Wd', \n",
    "                 'Jurisdictn', 'Rt_Sidewlk', 'Lt_Sidewlk', 'Route_Direction', 'Med_Width',\n",
    "                 'Op_Dir_SL', 'Struct_Cnd', 'Operation', 'Terrain', 'F_Class']]\n",
    "bike_dum = pd.get_dummies(bike_df, columns=['City', 'Jurisdictn', 'Route_Direction', 'Struct_Cnd',\n",
    "                                         'Operation', 'Terrain', 'F_Class'])\n",
    "bike_dum.head()"
   ]
  },
  {
   "cell_type": "markdown",
   "metadata": {},
   "source": [
    "Now lets see if my best regressor runs any better on this reduced set"
   ]
  },
  {
   "cell_type": "code",
   "execution_count": 45,
   "metadata": {},
   "outputs": [],
   "source": [
    "bike_y = bike_dum.bike_acc_score\n",
    "bike_X = bike_dum.drop(columns=['bike_acc_score'])\n",
    "# do train test split\n",
    "X_bike_train, X_bike_test, y_bike_train, y_bike_test = train_test_split(bike_X, bike_y, test_size=0.3, random_state=18,\n",
    "                                                              shuffle=True, stratify=bike_y)"
   ]
  },
  {
   "cell_type": "code",
   "execution_count": 47,
   "metadata": {},
   "outputs": [
    {
     "name": "stdout",
     "output_type": "stream",
     "text": [
      "Random Forest Regression Score on car accidents: 0.3114562984892384\n"
     ]
    }
   ],
   "source": [
    "rfr = ensemble.RandomForestRegressor()\n",
    "rfr.fit(X_bike_train, y_bike_train)\n",
    "bike_score = rfr.score(X_bike_test, y_bike_test)\n",
    "print('Random Forest Regression Score on car accidents: {}'.format(bike_score))"
   ]
  },
  {
   "cell_type": "code",
   "execution_count": 48,
   "metadata": {},
   "outputs": [
    {
     "name": "stdout",
     "output_type": "stream",
     "text": [
      "Ridge Regression Score on car accidents is: 0.07096354190730414\n"
     ]
    }
   ],
   "source": [
    "ri = Ridge()\n",
    "ri.fit(X_bike_train, y_bike_train)\n",
    "ri_score = ri.score(X_bike_test, y_bike_test)\n",
    "print('Ridge Regression Score on car accidents is: {}'.format(ri_score))"
   ]
  },
  {
   "cell_type": "markdown",
   "metadata": {},
   "source": [
    "Random Forest Regressor runs better on the reduced data set than any other regression on bike accident data but it's still not accurate enough to be worth much.\n",
    "\n",
    "Continuing with classification models."
   ]
  },
  {
   "cell_type": "code",
   "execution_count": 12,
   "metadata": {},
   "outputs": [],
   "source": [
    "bike_c_y = bike_dum.bike_acc_score.mask(bike_dum.car_acc_score > 0, 1)\n",
    "\n",
    "# do train test split\n",
    "X_bike_c_train, X_bike_c_test, y_bike_c_train, y_bike_c_test = train_test_split(bike_X, bike_c_y, test_size=0.3, \n",
    "                                                                            random_state=18,\n",
    "                                                                            shuffle=True, stratify=bike_c_y)"
   ]
  },
  {
   "cell_type": "code",
   "execution_count": 54,
   "metadata": {},
   "outputs": [
    {
     "data": {
      "text/plain": [
       "0.8749381661195305"
      ]
     },
     "execution_count": 54,
     "metadata": {},
     "output_type": "execute_result"
    }
   ],
   "source": [
    "dtc = tree.DecisionTreeClassifier()\n",
    "dtc.fit(X_bike_c_train, y_bike_c_train)\n",
    "dtc.score(X_bike_c_test, y_bike_c_test)"
   ]
  },
  {
   "cell_type": "code",
   "execution_count": 55,
   "metadata": {},
   "outputs": [
    {
     "name": "stdout",
     "output_type": "stream",
     "text": [
      "Random Forest Classifier accuracy score is 0.8755677474479471\n"
     ]
    }
   ],
   "source": [
    "rfc = ensemble.RandomForestClassifier()\n",
    "rfc.fit(X_bike_c_train, y_bike_c_train)\n",
    "score = rfc.score(X_bike_c_test, y_bike_c_test)\n",
    "print('Random Forest Classifier accuracy score is {}'.format(score))"
   ]
  },
  {
   "cell_type": "code",
   "execution_count": 56,
   "metadata": {},
   "outputs": [
    {
     "name": "stdout",
     "output_type": "stream",
     "text": [
      "Bagging Classifier accuracy score is 0.8739038539371318\n"
     ]
    }
   ],
   "source": [
    "bc = ensemble.BaggingClassifier()\n",
    "bc.fit(X_bike_c_train, y_bike_c_train)\n",
    "score = bc.score(X_bike_c_test, y_bike_c_test)\n",
    "print('Bagging Classifier accuracy score is {}'.format(score))"
   ]
  },
  {
   "cell_type": "code",
   "execution_count": 13,
   "metadata": {},
   "outputs": [
    {
     "name": "stdout",
     "output_type": "stream",
     "text": [
      "Gradient Boosting Classifier accuracy score is 0.9582227818500697\n"
     ]
    }
   ],
   "source": [
    "gbc = ensemble.GradientBoostingClassifier()\n",
    "gbc.fit(X_bike_c_train, y_bike_c_train)\n",
    "score = gbc.score(X_bike_c_test, y_bike_c_test)\n",
    "print('Gradient Boosting Classifier accuracy score is {}'.format(score))"
   ]
  },
  {
   "cell_type": "code",
   "execution_count": null,
   "metadata": {},
   "outputs": [],
   "source": []
  }
 ],
 "metadata": {
  "kernelspec": {
   "display_name": "Python 3",
   "language": "python",
   "name": "python3"
  },
  "language_info": {
   "codemirror_mode": {
    "name": "ipython",
    "version": 3
   },
   "file_extension": ".py",
   "mimetype": "text/x-python",
   "name": "python",
   "nbconvert_exporter": "python",
   "pygments_lexer": "ipython3",
   "version": "3.7.6"
  }
 },
 "nbformat": 4,
 "nbformat_minor": 4
}
